{
 "cells": [
  {
   "cell_type": "markdown",
   "id": "60dbc26b",
   "metadata": {},
   "source": [
    "# In Class Activity\n",
    "\n",
    "This will calculate the electrostatic force between two charges using Coulomb's Law:$$ F_E = {kq_1q_2 \\over r^2}$$\n",
    "Where $q_1 = 1.3 * 10^{-8} C$ and \n",
    "$q_2 = 4.3 * 10^{-8} C$ and\n",
    "$k = 8.99 * 10^9 {Nm^2 \\over C^2}$ and r = 2 cm"
   ]
  },
  {
   "cell_type": "code",
   "execution_count": 11,
   "id": "a704caf0",
   "metadata": {},
   "outputs": [
    {
     "name": "stdout",
     "output_type": "stream",
     "text": [
      "The force is 1.256e-02 Newtons\n"
     ]
    }
   ],
   "source": [
    "k = 8.99e9           #N m^2 / C^2\n",
    "q1 = 1.3e-8          \n",
    "q2 = 4.3e-8\n",
    "r = 2e-2\n",
    "\n",
    "#Calculate force between\n",
    "F = k*q1*q2/r/r\n",
    "print(f'The force is {F:.3e} Newtons')"
   ]
  },
  {
   "cell_type": "markdown",
   "id": "ff38622c",
   "metadata": {},
   "source": [
    "## Conclusion\n",
    "This is a very straight forward program that calculates Coulomb Force. There were no difficulties."
   ]
  },
  {
   "cell_type": "markdown",
   "id": "68709a4a",
   "metadata": {},
   "source": [
    "## Exercise 2.4 In Class Activity\n",
    "Exercise 2.4: A spaceship travels from Earth in a straight line at relativistic speed v to another\n",
    "planet x light years away. Write a program to ask the user for the value of x and the speed v\n",
    "as a fraction of the speed of light c, then print out the time in years that the spaceship takes\n",
    "to reach its destination \n",
    "\n",
    "(a) in the rest frame of an observer on Earth \n",
    "\n",
    "(b) as perceived by a\n",
    "passenger on board the ship. Use your program to calculate the answers for a planet 10 light\n",
    "years away with v = 0.99c."
   ]
  },
  {
   "cell_type": "code",
   "execution_count": 22,
   "id": "9040297a",
   "metadata": {},
   "outputs": [
    {
     "name": "stdout",
     "output_type": "stream",
     "text": [
      "The observer on earth sees it take 318545455 seconds or 10.101 years\n",
      "The observer on the ship sees it take 44936366 seconds or 1.425 years\n"
     ]
    }
   ],
   "source": [
    "c = 3e8\n",
    "d = 10*c*365*24*60*60\n",
    "v = 0.99*c\n",
    "γ = 1/np.sqrt(1-v**2/c**2)\n",
    "#Observed on Earth\n",
    "te = d/v\n",
    "print(f'The observer on earth sees it take {te:.0f} seconds or {te/60/60/24/365:.3f} years')\n",
    "#Observed on Ship\n",
    "ts = te/γ\n",
    "print(f'The observer on the ship sees it take {ts:.0f} seconds or {ts/60/60/24/365:.3f} years')"
   ]
  },
  {
   "cell_type": "markdown",
   "id": "aaddce59",
   "metadata": {},
   "source": [
    "## Conclusion\n",
    "  I made the mistake of having the time on the ship be time on Earth times gamma to start. That made it so the time on the ship was longer than the time on Earth. I knew that was wrong, so changed it and found this to be the solution. "
   ]
  },
  {
   "cell_type": "markdown",
   "id": "eafacca1",
   "metadata": {},
   "source": [
    "# Exercises 2.1 & 2.2\n",
    "\n",
    "### Exercise 2.1: Another ball dropped from a tower\n",
    "A ball is dropped from a tower of height h with initial velocity zero. Write a program that asks\n",
    "the user to enter the height in meters of the tower and then calculates and prints the time the\n",
    "ball takes until it hits the ground, ignoring air resistance. Use your program to calculate the\n",
    "time for a ball dropped from a 100 m high tower.\n",
    "\n",
    "### Introduction \n",
    "This code will calculate the time it will take to have the ball hit the ground. It has the user input the height. The parent equation is $x_f = x_0 + v_0 t + {1 \\over 2}gt^2$. With the initial velocity being 0 m/s, the equation becomes:$$ t = \\sqrt{{2x_0\\over g}}$$ Where $x_0$ is the height."
   ]
  },
  {
   "cell_type": "code",
   "execution_count": 5,
   "id": "7d6b62f3",
   "metadata": {
    "scrolled": true
   },
   "outputs": [
    {
     "name": "stdout",
     "output_type": "stream",
     "text": [
      "What is the height of the tower (in meters)? 100\n",
      "It takes 4.518 seconds for the ball to hit the ground.\n"
     ]
    }
   ],
   "source": [
    "import numpy as np\n",
    "h = float(input('What is the height of the tower (in meters)? '))\n",
    "v0 = 0\n",
    "g = 9.8\n",
    "t = np.sqrt(2*h/g)\n",
    "print(f'It takes {t:.3f} seconds for the ball to hit the ground.')"
   ]
  },
  {
   "cell_type": "markdown",
   "id": "cf504c1f",
   "metadata": {},
   "source": [
    "## Conclusion \n",
    "This problem was simple. I forgot to make the input a float at first. But this was something I had done many times before in PH 121."
   ]
  },
  {
   "cell_type": "markdown",
   "id": "04855c6b",
   "metadata": {},
   "source": [
    "### Exercise 2.2: Altitude of a satellite\n",
    "### Introduction\n",
    "The code below will be able to do these different calculations. I will make a function to calculate the altitude. \n",
    "\n",
    "\n",
    "#### Instructions\n",
    "A satellite is to be launched into a circular orbit around the Earth so that it orbits the planet\n",
    "once every T seconds.\n",
    "a) Show that the altitude h above the Earth’s surface that the satellite must have is\n",
    "$$h = ({GMT^2 \\over 4\\pi ^2})^{1\\over3} - R$$\n",
    "where G = $6.67*10^{-11} m^3 kg^{-1} s^{-2}$ is Newton’s gravitational constant, M = $5.97 * 10^24$ kg is the mass of the Earth, and R = 6371 km is its radius.\n",
    "\n",
    "b) Write a program that asks the user to enter the desired value of T and then calculates and\n",
    "prints out the correct altitude in meters.\n",
    "\n",
    "c) Use your program to calculate the altitudes of satellites that orbit the Earth once a day\n",
    "(so-called “geosynchronous” orbit), once every 90 minutes, and once every 45 minutes.\n",
    "What do you conclude from the last of these calculations?\n",
    "\n",
    "d) Technically a geosynchronous satellite is one that orbits the Earth once per sidereal day,\n",
    "which is 23.93 hours, not 24 hours. Why is this? And how much difference will it make\n",
    "to the altitude of the satellite?\n"
   ]
  },
  {
   "cell_type": "code",
   "execution_count": 10,
   "id": "27873b7d",
   "metadata": {},
   "outputs": [
    {
     "name": "stdout",
     "output_type": "stream",
     "text": [
      "What is the period of the orbit (in seconds)? 2800\n",
      "The needed altitude is -2078745.180 meters.\n",
      "The altitude of a geosynchronous orbit is 35855910.176 meters\n",
      "The altitude of a 90 minute orbit is 279321.625 meters\n",
      "The altitude of a 45 minute orbit is -2181559.898 meters\n"
     ]
    }
   ],
   "source": [
    "import numpy as np\n",
    "#Function\n",
    "def altitude(T):\n",
    "    G = 6.67e-11\n",
    "    M = 5.97e24\n",
    "    R = 6371e3\n",
    "    return (G*M*T**2 / 4/np.pi**2)**(1/3)-R\n",
    "\n",
    "#Part B\n",
    "T = float(input('What is the period of the orbit (in seconds)? '))\n",
    "print(f'The needed altitude is {altitude(T):.3f} meters.')\n",
    "\n",
    "#Part C\n",
    "geosync = 24*60*60\n",
    "print(f'The altitude of a geosynchronous orbit is {altitude(geosync):.3f} meters')\n",
    "min90 = 90*60\n",
    "print(f'The altitude of a 90 minute orbit is {altitude(min90):.3f} meters')\n",
    "min45 = 45*60\n",
    "print(f'The altitude of a 45 minute orbit is {altitude(min45):.3f} meters')\n",
    "# We cannot have something orbit at that rate\n",
    "\n",
    "#Part D\n",
    "newgeosync = 23.93*60*60"
   ]
  },
  {
   "cell_type": "markdown",
   "id": "d885fd56",
   "metadata": {},
   "source": [
    "# Exercises 2.5 & 2.6\n",
    "### Exercise 2.5: Quantum potential step\n",
    "A well-known quantum mechanics problem involves a particle of mass m that encounters a\n",
    "one-dimensional potential step.\n",
    "\n",
    "\n",
    "The particle with initial kinetic energy E and wavevector $k_1 = \\sqrt{{2mE\\over \\hbar^2}}$ enters from the left and encounters a sudden jump in potential energy of height $V$ at position $x = 0$. By solving the Schrodinger equation, one can show that when E > V the particle may either (a) pass the step,in which case it has a lower kinetic energy of E − V on the other side and a correspondingly\n",
    "smaller wavevector of $k_2 =\\sqrt{{2m(E − V)\\over \\hbar^2}}$, or (b) it may be reflected, keeping all of its kinetic energy and an unchanged wavevector but moving in the opposite direction. The probabilities T and R for transmission and reflection are given by\n",
    "$$T = {4k_1k_2\\over (k_1+k_2)^2} ,    R = ({k_1 - k_2 \\over k_1 + k_2})^2$$\n",
    "\n",
    "\n",
    "Suppose we have a particle with mass equal to the electron mass $m = 9.11 x 10^{−31}$ kg and\n",
    "energy 10 eV encountering a potential step of height 9 eV. Write a Python program to compute\n",
    "and print out the transmission and reflection probabilities using the formulas above.\n"
   ]
  },
  {
   "cell_type": "code",
   "execution_count": 1,
   "id": "35a76709",
   "metadata": {},
   "outputs": [
    {
     "name": "stdout",
     "output_type": "stream",
     "text": [
      "Transmission: 0.730 \n",
      "Reflection: 0.270\n"
     ]
    }
   ],
   "source": [
    "import numpy as np\n",
    "def k1(E):\n",
    "    ħc=197.3 #eV nm\n",
    "    mc2 = .511e6 #eV nm^2\n",
    "    return np.sqrt(2*mc2*E/ħc**2)\n",
    "def k2(E,V):\n",
    "    ħc=197.3 #eV nm\n",
    "    mc2 = .511e6 #eV nm^2\n",
    "    return np.sqrt(2*mc2*(E-V)/ħc**2)\n",
    "def T(E,V):\n",
    "    k_1 =k1(E)\n",
    "    k_2 = k2(E,V)\n",
    "    return 4*k_1*k_2/(k_1+k_2)**2\n",
    "def R(E,V):\n",
    "    k_1 =k1(E)\n",
    "    k_2 = k2(E,V)\n",
    "    return ((k_1-k_2)/(k_1+k_2))**2\n",
    "\n",
    "E = 10 #Energy in eV\n",
    "V = 9  #Height in eV\n",
    "\n",
    "print(f'Transmission: {T(E,V):.3f} \\nReflection: {R(E,V):.3f}')"
   ]
  },
  {
   "cell_type": "markdown",
   "id": "ee039876",
   "metadata": {},
   "source": [
    "## Conlusion\n",
    "I used functions to calculate it so I could change the numbers in the future and it would still work. You can make sure the formulas are correct by adding R&T. If it equals 1, it is correct. "
   ]
  },
  {
   "cell_type": "markdown",
   "id": "01be13ff",
   "metadata": {},
   "source": [
    "\n",
    "### Exercise 2.6: Planetary orbits\n",
    "The orbit in space of one body around another, such as a planet around the Sun, need not\n",
    "be circular. In general it takes the form of an ellipse, with the body sometimes closer in and\n",
    "sometimes further out. If you are given the distance $\\ell_1$ of closest approach that a planet makes\n",
    "to the Sun, also called its perihelion, and its linear velocity $v_1$ at perihelion, then any other\n",
    "property of the orbit can be calculated from these two as follows.\n",
    "\n",
    "a) Kepler’s second law tells us that the distance $\\ell_2$ and velocity $v_2$ of the planet at its most\n",
    "distant point, or aphelion, satisfy $\\ell_2v_2 = \\ell_1v_1$. At the same time the total energy, kinetic\n",
    "plus gravitational, of a planet with velocity v and distance r from the Sun is given by\n",
    "$$E = {1 \\over 2}mv^2 - G{mM \\over r}$$\n",
    "where $m$ is the planet’s mass, $M = 1.9891 × 10^{30}$ kg is the mass of the Sun, and $G =\n",
    "6.6738 × 10^{−11} m^3 kg^{−1}s^{−2}$\n",
    "is Newton’s gravitational constant. Given that energy must\n",
    "be conserved, show that $v_2$ is the smaller root of the quadratic equation\n",
    "$$v_2 ^2 - {2GM \\over v_1 \\ell_1}v_2 - (v_1 ^2 - {2GM \\over \\ell_1})=0$$\n",
    "Once we have $v_2$ we can calculate $\\ell_2$ using the relation $\\ell_2 = \\ell_1v_1/v_2$.\n",
    "\n",
    "\n",
    "b) Given the values of $v_1, \\ell_1$, and $\\ell_2$, other parameters of the orbit are given by simple\n",
    "formulas can that be derived from Kepler’s laws and the fact that the orbit is an ellipse:\n",
    "\n",
    "Semi-major axis:$a={1 \\over 2}(\\ell_1 + \\ell_2)$\n",
    "Semi-minor axis: $b = \\sqrt{\\ell_1 \\ell_2}$\n",
    "Orbital period: $T = {2\\pi a b \\over  \\ell_1 v_1 }$\n",
    "Orbital eccentricity: $e = {\\ell_2 - \\ell_1 \\over \\ell_2 + \\ell_1}$\n",
    "\n",
    "Write a program that asks the user to enter the distance to the Sun and velocity at perihelion, then calculates and prints the quantities ℓ2, v2, T, and e.\n",
    "\n",
    "c) Test your program by having it calculate the properties of the orbits of the Earth (for\n",
    "which $\\ell_1 = 1.4710 × 10^{11}$ m and $v_1 = 3.0287 × 10^4 m s^{−1}$\n",
    ") and Halley’s comet ($\\ell_1 =8.7830 × 10^{10} m$ and $v_1 = 5.4529 × 10^4 m s^{−1}$). Among other things, you should find that\n",
    "the orbital period of the Earth is one year and that of Halley’s comet is about 76 years."
   ]
  },
  {
   "cell_type": "code",
   "execution_count": 11,
   "id": "c843ce3f",
   "metadata": {},
   "outputs": [
    {
     "name": "stdout",
     "output_type": "stream",
     "text": [
      "What is your distance to the sun? 1\n",
      "What is your velocity at perihelion? 1\n",
      "l2: 3.766519e-21\n",
      "v2: 2.655e+20\n",
      "T: 1.928e-10\n",
      "e:-1.000e+00\n",
      "Earth\n",
      "l2: 1.520272e+11\n",
      "v2: 2.931e+04\n",
      "T: 1.000 years\n",
      "e:1.647e-02\n",
      "Halley\n",
      "l2: 5.282215e+12\n",
      "v2: 9.067e+02\n",
      "T: 76.082years\n",
      "e:9.673e-01\n"
     ]
    }
   ],
   "source": [
    "import numpy as np\n",
    "#Part B\n",
    "M = 1.9891e30\n",
    "G = 6.6738e-11\n",
    "\n",
    "def v_2(v1,l1):\n",
    "    a = 1\n",
    "    b = -2*G*M/v1/l1\n",
    "    c = -(v1**2-2*G*M/l1)\n",
    "    plus= (-b+np.sqrt(b**2 - 4*a*c))/2/a\n",
    "    minus =  (-b-np.sqrt(b**2 - 4*a*c))/2/a\n",
    "    if minus>0 and minus < plus:\n",
    "        return minus\n",
    "    else:\n",
    "        return plus\n",
    "def l_2(v1,l1):\n",
    "    v2 = v_2(v1,l1)\n",
    "    return l1*v1/v2\n",
    "def semi_major(v1,l1):\n",
    "    l2=l_2(v1,l1)\n",
    "    return 1/2*(l1+l2)\n",
    "def semi_minor(v1,l1):\n",
    "    l2=l_2(v1,l1)\n",
    "    return np.sqrt(l1*l2)\n",
    "def orbital_period(v1,l1):\n",
    "    a = semi_major(v1,l1)\n",
    "    b = semi_minor(v1,l1)\n",
    "    return 2*np.pi*a*b/l1/v1\n",
    "def orbital_eccen(v1,l1):\n",
    "    l2=l_2(v1,l1)\n",
    "    return (l2-l1)/(l2+l1)\n",
    "\n",
    "distance = float(input(\"What is your distance to the sun? \"))\n",
    "velocity = float(input(\"What is your velocity at perihelion? \"))\n",
    "\n",
    "print(f'l2: {l_2(velocity,distance):3e}\\nv2: {v_2(velocity,distance):.3e}\\nT: {orbital_period(velocity,distance):.3e}\\ne:{orbital_eccen(velocity,distance):.3e}')\n",
    "\n",
    "#Part C\n",
    "l1_earth = 1.471e11     \n",
    "v1_earth = 3.0287e4\n",
    "l1_Halley = 8.7830e10\n",
    "v1_Halley = 5.4529e4\n",
    "print(f'Earth\\nl2: {l_2(v1_earth,l1_earth):3e}\\nv2: {v_2(v1_earth,l1_earth):.3e}\\nT: {orbital_period(v1_earth,l1_earth)/60/60/24/365:.3f} years\\ne:{orbital_eccen(v1_earth,l1_earth):.3e}')\n",
    "print(f'Halley\\nl2: {l_2(v1_Halley,l1_Halley):3e}\\nv2: {v_2(v1_Halley,l1_Halley):.3e}\\nT: {orbital_period(v1_Halley,l1_Halley)/60/60/24/365:.3f}years\\ne:{orbital_eccen(v1_Halley,l1_Halley):.3e}')"
   ]
  },
  {
   "cell_type": "markdown",
   "id": "6b07eca1",
   "metadata": {},
   "source": [
    "### Conclusion\n",
    "I wrote a lot of functions. The hardest part was calculating v2. I hadn't added the if statement at first and it was giving me the wrong numbers. "
   ]
  }
 ],
 "metadata": {
  "kernelspec": {
   "display_name": "Python 3 (ipykernel)",
   "language": "python",
   "name": "python3"
  },
  "language_info": {
   "codemirror_mode": {
    "name": "ipython",
    "version": 3
   },
   "file_extension": ".py",
   "mimetype": "text/x-python",
   "name": "python",
   "nbconvert_exporter": "python",
   "pygments_lexer": "ipython3",
   "version": "3.9.7"
  }
 },
 "nbformat": 4,
 "nbformat_minor": 5
}
