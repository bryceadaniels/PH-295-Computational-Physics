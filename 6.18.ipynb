{
 "cells": [
  {
   "cell_type": "markdown",
   "id": "d62316dc",
   "metadata": {},
   "source": [
    "# Exercise 6.18\n",
    "### Introduction\n",
    "This will find the maximum efficiency of a lightbulb using golden ratio search. \n",
    "$$ \\eta = {15 \\over \\pi^4} \\int_{hc/\\lambda _2 k_B T}^{hc/\\lambda _1 k_B T} {x^3 \\over e^x -1} dx$$"
   ]
  },
  {
   "cell_type": "code",
   "execution_count": 21,
   "id": "1b92daff",
   "metadata": {},
   "outputs": [
    {
     "name": "stdout",
     "output_type": "stream",
     "text": [
      "The maximum is at 6929 of η = 0.4517\n"
     ]
    },
    {
     "data": {
      "image/png": "[encoded data removed]",
      "text/plain": [
       "<Figure size 432x288 with 1 Axes>"
      ]
     },
     "metadata": {
      "needs_background": "light"
     },
     "output_type": "display_data"
    }
   ],
   "source": [
    "# Part A using gaussian quadrature with 100 points\n",
    "from gaussxw import gaussxw\n",
    "import numpy as np\n",
    "import matplotlib.pyplot as plt\n",
    "\n",
    "f = lambda x: x**3/(np.exp(x)-1)\n",
    "\n",
    "def gauss_integral(T):\n",
    "    N = 100\n",
    "    a = h*c/lam2/kb/T\n",
    "    b = h*c/lam1/kb/T\n",
    "\n",
    "    x,w = gaussxw(N)\n",
    "    xp = 0.5*(b-a)*x+0.5*(b+a)\n",
    "    wp = 0.5*(b-a)*w\n",
    "\n",
    "    s = 0\n",
    "    for k in range(N):\n",
    "        s += wp[k]*f(xp[k])\n",
    "    return s*15/np.pi**4\n",
    "\n",
    "Vint = np.vectorize(gauss_integral)\n",
    "h = 6.6260715e-34\n",
    "c = 299792458\n",
    "lam1 = 390e-9\n",
    "lam2 = 750e-9\n",
    "kb = 1.380649e-23\n",
    "temps = np.linspace(300,10000,500)\n",
    "plt.title('Efficiency as a function of Temperature')\n",
    "plt.ylabel('η')\n",
    "plt.xlabel('T (K)')\n",
    "plt.plot(temps,Vint(temps),'b-')\n",
    "\n",
    "# Part B Golden Ratio Search\n",
    "temp = 5000\n",
    "accuracy = 1\n",
    "z = (1 + np.sqrt(5))/2        # Golden ratio\n",
    "\n",
    "x1 = temp/10\n",
    "x4 = temp * 1.9\n",
    "x2 = x4- (x4-x1)/z\n",
    "x3 = x1+(x4-x1)/z\n",
    "\n",
    "f1 = gauss_integral(x1)\n",
    "f2 = gauss_integral(x2)\n",
    "f3 = gauss_integral(x3)\n",
    "f4 = gauss_integral(x4)\n",
    "\n",
    "while x4-x1 > accuracy:\n",
    "    if f2>f3:\n",
    "        x4,f4 = x3,f3\n",
    "        x3,f3 = x2, f2\n",
    "        x2 = x4 - (x4-x1)/z\n",
    "        f2 = gauss_integral(x2)\n",
    "    else:\n",
    "        x1,f1 = x2,f2\n",
    "        x2, f2 = x3,f3\n",
    "        x3 = x1 + (x4-x1)/z\n",
    "        f3 = gauss_integral(x3)\n",
    "        \n",
    "print(f'The maximum is at {0.5 * (x1+x4) :.0f} of η = {gauss_integral(0.5 * (x1+x4)):.4f}')\n",
    "plt.plot(0.5 * (x1+x4),gauss_integral(0.5 * (x1+x4)),'r*')\n",
    "\n",
    "plt.show()"
   ]
  },
  {
   "cell_type": "markdown",
   "id": "734def02",
   "metadata": {},
   "source": [
    "### Conclusion\n",
    "No it is not practical to run it at that temperature. If it was, everything around it would burn. And it takes a lot of energy to get to that temperature. \n",
    "\n",
    "Overall, I really enjoyed this. I had fun making a function to do gaussian quadrature. The only change I had to make to the code he gave us was the if statement in the while loop."
   ]
  }
 ],
 "metadata": {
  "kernelspec": {
   "display_name": "Python 3 (ipykernel)",
   "language": "python",
   "name": "python3"
  },
  "language_info": {
   "codemirror_mode": {
    "name": "ipython",
    "version": 3
   },
   "file_extension": ".py",
   "mimetype": "text/x-python",
   "name": "python",
   "nbconvert_exporter": "python",
   "pygments_lexer": "ipython3",
   "version": "3.9.7"
  }
 },
 "nbformat": 4,
 "nbformat_minor": 5
}
