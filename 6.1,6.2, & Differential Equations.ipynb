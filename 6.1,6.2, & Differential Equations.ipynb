{
 "cells": [
  {
   "cell_type": "markdown",
   "id": "f036476b",
   "metadata": {},
   "source": [
    "# Exercise 6.1\n",
    "### Introduction\n",
    "$ 4V_1 -V_2-V_3 -V_4 = V_+$\n",
    "\n",
    "$-V_1 +3V_2+0V_3 - V_4 = 0$\n",
    "\n",
    "$ -V_1 + 0V_2 + 3V_3 - V_4 = V_+$\n",
    "\n",
    "$-V_1 - V_2 - V_3 + 4V_4 = 0$\n",
    "\n",
    "Solved in first block with his fancy thing\n",
    "Solved in second block with linalg"
   ]
  },
  {
   "cell_type": "code",
   "execution_count": 55,
   "id": "5d3191d9",
   "metadata": {},
   "outputs": [
    {
     "name": "stdout",
     "output_type": "stream",
     "text": [
      "[3.         1.66666667 3.33333333 2.        ]\n"
     ]
    }
   ],
   "source": [
    "from numpy import array,empty\n",
    "\n",
    "A = array([[ 4, -1, -1, -1 ],\n",
    "           [-1,  3,  0, -1 ],\n",
    "           [-1,  0,  3, -1 ],\n",
    "           [-1, -1, -1,  4 ]],float)\n",
    "v = array([ 5, 0, 5, 0 ],float)\n",
    "N = len(v)\n",
    "\n",
    "# Gaussian elimination\n",
    "for m in range(N):\n",
    "    #Partial Pivot\n",
    "    for i in range(N-1,m,-1):\n",
    "        if abs(A[i,m]) > abs(A[i-1,m]):\n",
    "            #swap rows\n",
    "            A[[i,i-1],:] = A[[i-1,i],:]\n",
    "            v[[i,i-1]] = v[[i-1,i]]\n",
    "    \n",
    "    # Divide by the diagonal element\n",
    "    div = A[m,m]\n",
    "    A[m,:] /= div\n",
    "    v[m] /= div\n",
    "\n",
    "    # Now subtract from the lower rows\n",
    "    for i in range(m+1,N):\n",
    "        mult = A[i,m]\n",
    "        A[i,:] -= mult*A[m,:]\n",
    "        v[i] -= mult*v[m]\n",
    "\n",
    "# Backsubstitution\n",
    "x = empty(N,float)\n",
    "for m in range(N-1,-1,-1):\n",
    "    x[m] = v[m]\n",
    "    for i in range(m+1,N):\n",
    "        x[m] -= A[m,i]*x[i]\n",
    "\n",
    "print(x)"
   ]
  },
  {
   "cell_type": "code",
   "execution_count": 50,
   "id": "6fd34a40",
   "metadata": {},
   "outputs": [
    {
     "data": {
      "text/plain": [
       "array([3.        , 1.66666667, 3.33333333, 2.        ])"
      ]
     },
     "execution_count": 50,
     "metadata": {},
     "output_type": "execute_result"
    }
   ],
   "source": [
    "from numpy.linalg import solve\n",
    "from numpy import array\n",
    "A = array([[ 4, -1, -1, -1 ],\n",
    "           [-1,  3,  0, -1 ],\n",
    "           [-1,  0,  3, -1 ],\n",
    "           [-1, -1, -1,  4 ]],float)\n",
    "v = array([ 5, 0, 5, 0 ],float)\n",
    "x = solve(A,v)\n",
    "x"
   ]
  },
  {
   "cell_type": "markdown",
   "id": "c4d668cb",
   "metadata": {},
   "source": [
    "### Conclusion\n",
    "I forgot to swap the v rows too... But it works now.\n",
    "\n",
    "# Exercise 6.2\n",
    "### Introduction\n",
    "Make partial pivoting happen"
   ]
  },
  {
   "cell_type": "code",
   "execution_count": 57,
   "id": "e71cbc43",
   "metadata": {},
   "outputs": [
    {
     "name": "stdout",
     "output_type": "stream",
     "text": [
      "Equation 6.1\n",
      "[ 2. -1. -2.  1.]\n",
      "Equation 6.17\n",
      "[ 1.61904762 -0.42857143 -1.23809524  1.38095238]\n"
     ]
    }
   ],
   "source": [
    "from numpy import array,empty\n",
    "\n",
    "A = array([[ 2,  1,  4,  1 ],\n",
    "           [ 3,  4, -1, -1 ],\n",
    "           [ 1, -4,  1,  5 ],\n",
    "           [ 2, -2,  1,  3 ]],float)\n",
    "v = array([ -4, 3, 9, 7 ],float)\n",
    "N = len(v)\n",
    "\n",
    "# Gaussian elimination\n",
    "for m in range(N):\n",
    "\n",
    "    for i in range(N-1,m,-1):\n",
    "        if abs(A[i,m]) > abs(A[i-1,m]):\n",
    "            #swap rows\n",
    "            A[[i,i-1],:] = A[[i-1,i],:]\n",
    "            v[[i,i-1]] = v[[i-1,i]]\n",
    "    \n",
    "    # Divide by the diagonal element\n",
    "    div = A[m,m]\n",
    "    A[m,:] /= div\n",
    "    v[m] /= div\n",
    "\n",
    "    # Now subtract from the lower rows\n",
    "    for i in range(m+1,N):\n",
    "        mult = A[i,m]\n",
    "        A[i,:] -= mult*A[m,:]\n",
    "        v[i] -= mult*v[m]\n",
    "\n",
    "# Backsubstitution\n",
    "x = empty(N,float)\n",
    "for m in range(N-1,-1,-1):\n",
    "    x[m] = v[m]\n",
    "    for i in range(m+1,N):\n",
    "        x[m] -= A[m,i]*x[i]\n",
    "\n",
    "print(\"Equation 6.1\")\n",
    "print(x)\n",
    "\n",
    "from numpy import array,empty\n",
    "\n",
    "A = array([[ 0,  1,  4,  1 ],\n",
    "           [ 3,  4, -1, -1 ],\n",
    "           [ 1, -4,  1,  5 ],\n",
    "           [ 2, -2,  1,  3 ]],float)\n",
    "v = array([ -4, 3, 9, 7 ],float)\n",
    "N = len(v)\n",
    "\n",
    "# Gaussian elimination\n",
    "for m in range(N):\n",
    "\n",
    "    for i in range(N-1,m,-1):\n",
    "        if abs(A[i,m]) > abs(A[i-1,m]):\n",
    "            #swap rows\n",
    "            A[[i,i-1],:] = A[[i-1,i],:]\n",
    "            v[[i,i-1]] = v[[i-1,i]]\n",
    "    \n",
    "    # Divide by the diagonal element\n",
    "    div = A[m,m]\n",
    "    A[m,:] /= div\n",
    "    v[m] /= div\n",
    "\n",
    "    # Now subtract from the lower rows\n",
    "    for i in range(m+1,N):\n",
    "        mult = A[i,m]\n",
    "        A[i,:] -= mult*A[m,:]\n",
    "        v[i] -= mult*v[m]\n",
    "\n",
    "# Backsubstitution\n",
    "x = empty(N,float)\n",
    "for m in range(N-1,-1,-1):\n",
    "    x[m] = v[m]\n",
    "    for i in range(m+1,N):\n",
    "        x[m] -= A[m,i]*x[i]\n",
    "\n",
    "print(\"Equation 6.17\")\n",
    "print(x)"
   ]
  },
  {
   "cell_type": "markdown",
   "id": "92b6ff68",
   "metadata": {},
   "source": [
    "### Conclusion\n",
    "It works! Thanks for going over it in class for us. That would have been hard to figure out alone."
   ]
  },
  {
   "cell_type": "markdown",
   "id": "4a3783af",
   "metadata": {},
   "source": [
    "# Differential Equation on a Grid\n",
    "### Intro\n",
    "$y\" + {1 \\over x} y' + (1-{1 \\over x^2 }) y = x$\n",
    "\n",
    "$y(0) = 0, y(5) = 1$"
   ]
  },
  {
   "cell_type": "code",
   "execution_count": 48,
   "id": "ad2e3f3f",
   "metadata": {},
   "outputs": [
    {
     "data": {
      "image/png": "[encoded data removed]",
      "text/plain": [
       "<Figure size 432x288 with 1 Axes>"
      ]
     },
     "metadata": {
      "needs_background": "light"
     },
     "output_type": "display_data"
    }
   ],
   "source": [
    "from numpy import ones_like, zeros, linspace\n",
    "from numpy.linalg import solve\n",
    "import matplotlib.pyplot as plt\n",
    "\n",
    "N = 20 # num of points\n",
    "a = 0\n",
    "b = 5\n",
    "x,h = linspace(a,b,N,retstep = True)\n",
    "v = x.copy()  #right hand side\n",
    "v[-1] = 1   #boundary conditions\n",
    "v[0] = 0\n",
    "\n",
    "A = zeros([N,N])\n",
    "A[0,0]=1\n",
    "A[N-1,N-1] = 1\n",
    "\n",
    "for i in range(1,N-1):\n",
    "    A[i,i-1] = 1/h/h  - 1/2/h/x[i]     #This is where you need to change the differential equation\n",
    "    A[i,i]= -2/h/h +(1 -1/x[i]/x[i])\n",
    "    A[i,i+1]=1/h/h + 1/2/h/x[i]\n",
    "\n",
    "y = solve(A,v)\n",
    "    \n",
    "    \n",
    "# Comparing against function \n",
    "import numpy as np\n",
    "def f(m,x,theta):\n",
    "    return np.cos(m*theta-x*np.sin(theta))\n",
    "def J(m,x):\n",
    "    N = 1000\n",
    "    a = 0\n",
    "    b = np.pi\n",
    "    h = (b-a)/N\n",
    "    S = f(m,x,a)+f(m,x,b)\n",
    "    for k in range(1,N,2):\n",
    "        S+= 4*f(m,x,a+k*h)\n",
    "    for k in range(2,N,2):\n",
    "        S+= 2*f(m,x,a+k*h)\n",
    "    return 1/3 * h*S\n",
    "\n",
    "xsol = np.linspace(a,b,1000)\n",
    "plt.plot(xsol,-4/J(1,5)*J(1,xsol)+xsol,'g')\n",
    "plt.plot(x,y,'r.')\n",
    "plt.show()"
   ]
  },
  {
   "cell_type": "markdown",
   "id": "e0751f5d",
   "metadata": {},
   "source": [
    "### Conclusion\n",
    "Once I have 20 points, it looks close enough to the solution. "
   ]
  }
 ],
 "metadata": {
  "kernelspec": {
   "display_name": "Python 3 (ipykernel)",
   "language": "python",
   "name": "python3"
  },
  "language_info": {
   "codemirror_mode": {
    "name": "ipython",
    "version": 3
   },
   "file_extension": ".py",
   "mimetype": "text/x-python",
   "name": "python",
   "nbconvert_exporter": "python",
   "pygments_lexer": "ipython3",
   "version": "3.9.7"
  }
 },
 "nbformat": 4,
 "nbformat_minor": 5
}
