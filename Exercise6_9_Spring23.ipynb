{
 "cells": [
  {
   "cell_type": "markdown",
   "id": "0f0f6ab1-229b-49bb-ab6b-00f87107d42b",
   "metadata": {},
   "source": [
    "# Exercise 6.9\n",
    "Finds the new functions (part e) and energy values (part a-d) when the asymmetric infinite square well has weird potential energy inside the well."
   ]
  },
  {
   "cell_type": "code",
   "execution_count": 27,
   "id": "362b1fcd-cea4-4914-9dba-497901a44663",
   "metadata": {},
   "outputs": [
    {
     "name": "stdout",
     "output_type": "stream",
     "text": [
      "[  5.83634278  11.18099573  18.66267192  29.14380501  42.65446003\n",
      "  59.18437186  78.72815393 101.28390808 126.84939127 155.55286851]\n"
     ]
    }
   ],
   "source": [
    "from numpy import pi, empty\n",
    "from numpy.linalg import eigvalsh, eigh\n",
    "from scipy.constants import hbar\n",
    "\n",
    "# define constants\n",
    "N = 10  # array size\n",
    "L = 5e-10\n",
    "e = 1.6022e-19\n",
    "a = 10*e\n",
    "M = 9.1094e-31\n",
    "\n",
    "\n",
    "def Hmn(m,n):  # (note: I had this wrong when my computer died in class. The integral \n",
    "               #  in the example needed to be multiplied by 2*a/L**2 and there was another\n",
    "               #  part of the integral that corresponded to the kinetic energy.)\n",
    "    if m == n:  # on diagonal \n",
    "        return (2*a/L/L)*L*L/4 + m*m*pi*pi*hbar*hbar/2/M/L/L\n",
    "    if (m+n)%2 == 0:  # both even or both odd\n",
    "        return 0\n",
    "    return -(2*a/L/L)*(2*L/pi)**2*n*m/(m*m-n*n)**2\n",
    "\n",
    "\n",
    "H = empty([N,N],float)\n",
    "\n",
    "for i in range(N):\n",
    "    for j in range(N):\n",
    "        H[i,j] = Hmn(i+1,j+1)\n",
    "        \n",
    "# dividing by e here gets the energies in eV since it's calculating them in Joules.\n",
    "EeV = eigvalsh(H)/e\n",
    "print(EeV)  \n",
    "\n",
    "\n"
   ]
  },
  {
   "cell_type": "code",
   "execution_count": null,
   "id": "28f919c5-3102-4df2-8da1-b7fde2547a78",
   "metadata": {},
   "outputs": [],
   "source": []
  }
 ],
 "metadata": {
  "kernelspec": {
   "display_name": "Python 3 (ipykernel)",
   "language": "python",
   "name": "python3"
  },
  "language_info": {
   "codemirror_mode": {
    "name": "ipython",
    "version": 3
   },
   "file_extension": ".py",
   "mimetype": "text/x-python",
   "name": "python",
   "nbconvert_exporter": "python",
   "pygments_lexer": "ipython3",
   "version": "3.9.7"
  }
 },
 "nbformat": 4,
 "nbformat_minor": 5
}
