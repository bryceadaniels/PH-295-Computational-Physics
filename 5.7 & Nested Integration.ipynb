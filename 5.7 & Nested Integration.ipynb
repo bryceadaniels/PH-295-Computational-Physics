{
 "cells": [
  {
   "cell_type": "markdown",
   "id": "e435083e",
   "metadata": {},
   "source": [
    "# 5.7\n",
    "### Introduction\n",
    "$$ I=\\int_{0}^{1} \\sin^2\\sqrt{100x}dx$$\n",
    "Part A: Nested Integration\n",
    "\n",
    "Part B: Romberg Integration"
   ]
  },
  {
   "cell_type": "code",
   "execution_count": 6,
   "id": "41c5c5c6",
   "metadata": {
    "scrolled": false
   },
   "outputs": [
    {
     "name": "stdout",
     "output_type": "stream",
     "text": [
      "Part A\n",
      "N =2, I= 0.32523191, error = 0.1816677\n",
      "N =4, I= 0.51228285, error = 0.1217107\n",
      "N =8, I= 0.40299745, error = 0.0903938\n",
      "N =16, I= 0.43010337, error = 0.0210073\n",
      "N =32, I= 0.44841467, error = 0.0136119\n",
      "N =64, I= 0.45391293, error = 0.0040377\n",
      "N =128, I= 0.45534850, error = 0.0010509\n",
      "N =256, I= 0.45571127, error = 0.0002653\n",
      "N =512, I= 0.45580220, error = 0.0000665\n",
      "N =1024, I= 0.45582495, error = 0.0000166\n",
      "N =2048, I= 0.45583064, error = 0.0000042\n",
      "N =4096, I= 0.45583206, error = 0.0000010\n",
      "N =8192, I= 0.45583241, error = 0.0000003\n",
      "\n",
      "Part B\n",
      "[0.3252319078064746]\n",
      "[0.5122828507233315, 0.5746331650289505]\n",
      "[0.40299744847824825, 0.3665689810632205, 0.35269803546550516]\n",
      "[0.43010336929474696, 0.4391386762335799, 0.44397665591160385, 0.4454255229028118]\n",
      "[0.4484146657874698, 0.4545184312850441, 0.45554374828847505, 0.45572735292937777, 0.4557677522628153]\n",
      "[0.4539129312153759, 0.45574568635801127, 0.45582750336287575, 0.4558320074116758, 0.45583241782141026, 0.4558324810331]\n",
      "[0.45534850437280205, 0.45582702875861075, 0.4558324515853174, 0.45583253012853076, 0.45583253217840075, 0.45583253229018666, 0.45583253230270365]\n",
      "Wall time: 52.5 ms\n"
     ]
    }
   ],
   "source": [
    "%%time\n",
    "import numpy as np\n",
    "f = lambda x: np.sin(np.sqrt(100*x))**2\n",
    "\n",
    "# Part A\n",
    "print('Part A')\n",
    "N = 1\n",
    "a = 0\n",
    "b = 1\n",
    "error = 1\n",
    "maxerror = 1e-6\n",
    "h = b-a\n",
    "I = h/2*(f(b)-f(a))\n",
    "while error > maxerror:\n",
    "    Iold = I\n",
    "    I /= 2\n",
    "    N *= 2\n",
    "    h /=2\n",
    "    for k in range(1,N,2):\n",
    "        I += h*f(a+k*h)\n",
    "    error = abs((I-Iold)/3/I)\n",
    "    print(f'N ={N}, I= {I:.8f}, error = {error :.7f}')\n",
    "    if N > 1e10:\n",
    "        break\n",
    "\n",
    "#Part B\n",
    "print('\\nPart B')\n",
    "R = []\n",
    "N = 1\n",
    "h = (b-a)\n",
    "I = h*(f(a)+f(b))/2\n",
    "R.append(I)\n",
    "error = 1\n",
    "maxerror = 1e-6\n",
    "i = 1\n",
    "while error > maxerror:\n",
    "    N *=2\n",
    "    i +=1\n",
    "    h /=2\n",
    "    I = h*(f(a)+f(b))/2\n",
    "    for k in range(1,N):\n",
    "        I += h*f(a+k*h)\n",
    "    R.append(I)\n",
    "    m = 1\n",
    "    while m < i:\n",
    "        Rim = R[-1]+1/(4**m -1)*(R[-1]-R[-i])\n",
    "        m+=1\n",
    "        R.append(Rim)\n",
    "    error = abs((R[-1]-R[-i-1])/3) \n",
    "    print(R[-i:-1])"
   ]
  },
  {
   "cell_type": "markdown",
   "id": "77fcf1a0",
   "metadata": {},
   "source": [
    "### Conclusion\n",
    "I thought this was a very fun code. The nested integration was fairly simple, but the Romberg Integration was fun. I had to write out the different steps and see patterns. I thought it was so fun to do it.\n",
    "\n",
    "# In Class Nested Integration\n",
    "### Introduction\n",
    "$$ I = \\int_{1}^{3} 0.95x^5 - 3.6x^4 + 3x^3-4.27x^2+12x-3 dx $$\n"
   ]
  },
  {
   "cell_type": "code",
   "execution_count": 2,
   "id": "f9a3885d",
   "metadata": {},
   "outputs": [
    {
     "name": "stdout",
     "output_type": "stream",
     "text": [
      "Max Error of 1.0e-03\n",
      "N =2, I= 10.67000000, error = 0.2883473914\n",
      "N =4, I= 7.25625000, error = 0.1568188343\n",
      "N =8, I= 6.33367187, error = 0.0485541480\n",
      "N =16, I= 6.09870605, error = 0.0128423865\n",
      "N =32, I= 6.03969452, error = 0.0032568720\n",
      "N =64, I= 6.02492476, error = 0.0008171479\n",
      "Max Error of 1.0e-06\n",
      "N =2, I= 10.67000000, error = 0.2883473914\n",
      "N =4, I= 7.25625000, error = 0.1568188343\n",
      "N =8, I= 6.33367187, error = 0.0485541480\n",
      "N =16, I= 6.09870605, error = 0.0128423865\n",
      "N =32, I= 6.03969452, error = 0.0032568720\n",
      "N =64, I= 6.02492476, error = 0.0008171479\n",
      "N =128, I= 6.02123126, error = 0.0002044707\n",
      "N =256, I= 6.02030782, error = 0.0000511292\n",
      "N =512, I= 6.02007696, error = 0.0000127830\n",
      "N =1024, I= 6.02001924, error = 0.0000031958\n",
      "N =2048, I= 6.02000481, error = 0.0000007990\n",
      "Max Error of 1.0e-09\n",
      "N =2, I= 10.67000000, error = 0.2883473914\n",
      "N =4, I= 7.25625000, error = 0.1568188343\n",
      "N =8, I= 6.33367187, error = 0.0485541480\n",
      "N =16, I= 6.09870605, error = 0.0128423865\n",
      "N =32, I= 6.03969452, error = 0.0032568720\n",
      "N =64, I= 6.02492476, error = 0.0008171479\n",
      "N =128, I= 6.02123126, error = 0.0002044707\n",
      "N =256, I= 6.02030782, error = 0.0000511292\n",
      "N =512, I= 6.02007696, error = 0.0000127830\n",
      "N =1024, I= 6.02001924, error = 0.0000031958\n",
      "N =2048, I= 6.02000481, error = 0.0000007990\n",
      "N =4096, I= 6.02000120, error = 0.0000001997\n",
      "N =8192, I= 6.02000030, error = 0.0000000499\n",
      "N =16384, I= 6.02000008, error = 0.0000000125\n",
      "N =32768, I= 6.02000002, error = 0.0000000031\n",
      "N =65536, I= 6.02000000, error = 0.0000000008\n",
      "Wall time: 65.2 ms\n"
     ]
    }
   ],
   "source": [
    "%%time\n",
    "import numpy as np\n",
    "f = lambda x: 0.95*x**5-3.6*x**4+3*x**3-4.27*x**2+12*x-3\n",
    "\n",
    "a = 1\n",
    "b = 3\n",
    "MaxError = [1e-3,1e-6,1e-9]\n",
    "\n",
    "for maxerror in MaxError:\n",
    "    N = 1\n",
    "    error = 1\n",
    "    print(f'Max Error of {maxerror:.1e}')\n",
    "    h = b-a\n",
    "    I = h/2*(f(b)+f(a))\n",
    "    while error > maxerror:\n",
    "        Iold = I\n",
    "        I /= 2\n",
    "        N *= 2\n",
    "        h /=2\n",
    "        for k in range(1,N,2):\n",
    "            I += h*f(a+k*h)\n",
    "        error = abs((I-Iold)/3/I)\n",
    "        print(f'N ={N}, I= {I:.8f}, error = {error :.10f}')\n",
    "        if N > 1e10:\n",
    "            break\n"
   ]
  },
  {
   "cell_type": "markdown",
   "id": "8d61b997",
   "metadata": {},
   "source": [
    "### Conclusion\n",
    "Thank you for helping me catch the mistake I had. It runs much better now. Sometimes, it is the little things that make a huge difference."
   ]
  }
 ],
 "metadata": {
  "kernelspec": {
   "display_name": "Python 3 (ipykernel)",
   "language": "python",
   "name": "python3"
  },
  "language_info": {
   "codemirror_mode": {
    "name": "ipython",
    "version": 3
   },
   "file_extension": ".py",
   "mimetype": "text/x-python",
   "name": "python",
   "nbconvert_exporter": "python",
   "pygments_lexer": "ipython3",
   "version": "3.9.7"
  }
 },
 "nbformat": 4,
 "nbformat_minor": 5
}
