{
 "cells": [
  {
   "cell_type": "markdown",
   "id": "4629aced",
   "metadata": {},
   "source": [
    "# Exercies 6.13 \n",
    "### Introduction\n",
    "b) Solve $5e^{-x} + x - 5 =0 $ for x using binary method\n",
    "\n",
    "c) With $\\lambda = 502 nm$, solve for $T$ with $\\lambda = {b \\over T}$"
   ]
  },
  {
   "cell_type": "code",
   "execution_count": 6,
   "id": "459d36b2",
   "metadata": {},
   "outputs": [
    {
     "name": "stdout",
     "output_type": "stream",
     "text": [
      "The displacement constant is 4.96511507\n",
      "The surface temperature of the Sun is 9890667 K\n"
     ]
    }
   ],
   "source": [
    "import numpy as np\n",
    "def dip(x):\n",
    "    return 5*np.exp(-x)+x-5\n",
    "\n",
    "#Part B\n",
    "x1 = 3\n",
    "x2 = 10\n",
    "xmid = (x1+x2)/2\n",
    "counter = 0\n",
    "while abs(dip(xmid)) > 1e-6:\n",
    "    if np.sign(dip(xmid))== np.sign(dip(x1)):\n",
    "        x1 = xmid\n",
    "    else:\n",
    "        x2 = xmid\n",
    "    xmid = (x1 + x2) / 2\n",
    "    counter +=1\n",
    "    if counter > 10000:\n",
    "        print('Uh Oh')\n",
    "        break\n",
    "b = xmid\n",
    "print(f'The displacement constant is {b:.8f}')\n",
    "\n",
    "# Part C\n",
    "λ = 502e-9\n",
    "b = b\n",
    "T = b/λ\n",
    "print(f'The surface temperature of the Sun is {T:.0f} K')"
   ]
  },
  {
   "cell_type": "markdown",
   "id": "75e6da4c",
   "metadata": {},
   "source": [
    "### Conclusion \n",
    "I have done something like this before. I think it is a really fun way to find roots. I made the while statement be < at first and that was obviously wrong. "
   ]
  },
  {
   "cell_type": "markdown",
   "id": "14822c4d",
   "metadata": {},
   "source": [
    "# In Class 5/30/2023 - 6.9\n",
    "### Introduction\n",
    "Went over a lot of stuff in class. This goes over asymmetric quantum well calculations"
   ]
  },
  {
   "cell_type": "code",
   "execution_count": 73,
   "id": "6519bd8e",
   "metadata": {},
   "outputs": [
    {
     "name": "stdout",
     "output_type": "stream",
     "text": [
      "[ 5.83912159 11.19302258 19.02520016]\n",
      "0 9.355440612663033e-19\n",
      "1 1.7933460779584115e-18\n",
      "2 3.0482175696150243e-18\n"
     ]
    },
    {
     "data": {
      "image/png": "[encoded data removed]",
      "text/plain": [
       "<Figure size 432x288 with 1 Axes>"
      ]
     },
     "metadata": {
      "needs_background": "light"
     },
     "output_type": "display_data"
    }
   ],
   "source": [
    "from numpy.linalg import eig, eigh,eigvals,eigvalsh\n",
    "from numpy import array, pi, empty, sin, linspace\n",
    "from scipy.constants import hbar\n",
    "\n",
    "# Part A done in class\n",
    "\n",
    "#Part B\n",
    "def Hmn(m,n):\n",
    "    if m == n:  # on diagonal \n",
    "        return (2*a/L/L)*L*L/4 + m*m*pi*pi*hbar*hbar/2/M/L/L\n",
    "    elif (m+n)%2 == 0:  # both even or both odd\n",
    "        return 0\n",
    "    return -(2*a/L/L)*(2*L/pi)**2*n*m/(m*m-n*n)**2\n",
    "    \n",
    "\n",
    " #Constants\n",
    "N = 3  # array size\n",
    "L = 5e-10\n",
    "e = 1.6022e-19\n",
    "a = 10*e\n",
    "M = 9.1094e-31\n",
    "\n",
    "H = empty([N,N])\n",
    "for i in range(N):\n",
    "    for j in range(N):\n",
    "        H[i,j]=Hmn(i+1,j+1)\n",
    "        \n",
    "EeV = eigvalsh(H)/e\n",
    "print(EeV)\n",
    "\n",
    "def phi(n,x):\n",
    "    return sin(n*pi*x/L)\n",
    "\n",
    "phiP = 0\n",
    "Eprime, V = eigh(H)\n",
    "x = linspace(0,L,200)\n",
    "for num,E in enumerate(Eprime):\n",
    "    print(num, E)\n",
    "    phiP += E*phi(num+1,x)\n",
    "    plt.plot(x,abs(phiP)**2)\n",
    "    \n"
   ]
  },
  {
   "cell_type": "markdown",
   "id": "336c2e13",
   "metadata": {},
   "source": [
    "### Conclusion\n",
    "I have no idea if this is right. I tried hard and they are definitely asymmetrical. "
   ]
  },
  {
   "cell_type": "markdown",
   "id": "33c15dd0",
   "metadata": {},
   "source": [
    "# Exercise 6.15\n",
    "### Introduction\n",
    "$$ P(x) = 924x^6 -2772x^5 + 3150x^4 - 1680x^3 + 420x^2 - 42x + 1$$\n",
    "a) Plot it and guess the roots\n",
    "\n",
    "b) Use Newton's method to find 6 roots to 10 decimal accuracy. "
   ]
  },
  {
   "cell_type": "code",
   "execution_count": 75,
   "id": "a4bc4f2c",
   "metadata": {},
   "outputs": [
    {
     "data": {
      "image/png": "[encoded data removed]",
      "text/plain": [
       "<Figure size 432x288 with 1 Axes>"
      ]
     },
     "metadata": {
      "needs_background": "light"
     },
     "output_type": "display_data"
    },
    {
     "name": "stdout",
     "output_type": "stream",
     "text": [
      "[0.033765242898377276, 0.16939530676661566, 0.38069040695839995, 0.6193095930415915, 0.830604693233137, 0.966234757101586]\n"
     ]
    }
   ],
   "source": [
    "import numpy as np\n",
    "import matplotlib.pyplot as plt\n",
    "\n",
    "# Part A\n",
    "def P(x):\n",
    "    return 924*x**6 - 2772*x**5+3150*x**4-1680*x**3+420*x**2-42*x+1\n",
    "\n",
    "x = np.linspace(0,1,1000)\n",
    "plt.plot(x,P(x),'r.')\n",
    "plt.plot(x,np.zeros_like(x))\n",
    "plt.show()\n",
    "\n",
    "# Part B\n",
    "# Derivative of P\n",
    "def p(x):\n",
    "    return 6*924*x**5-2772*5*x**4+3150*4*x**3-1680*3*x**2+420*2*x-42\n",
    "\n",
    "guesses = [0.02,0.18,0.37,0.61,0.84,0.95]\n",
    "roots = []\n",
    "for guess in guesses:\n",
    "    x = guess\n",
    "    while abs(P(x)) > 1e-10:\n",
    "        x = x - P(x)/p(x)\n",
    "    roots.append(x)\n",
    "print(roots)"
   ]
  },
  {
   "cell_type": "markdown",
   "id": "fa9736b4",
   "metadata": {},
   "source": [
    "### Conclusion\n",
    "This was really fun. My biggest problem with Newton's method is that we need good guesses. "
   ]
  }
 ],
 "metadata": {
  "kernelspec": {
   "display_name": "Python 3 (ipykernel)",
   "language": "python",
   "name": "python3"
  },
  "language_info": {
   "codemirror_mode": {
    "name": "ipython",
    "version": 3
   },
   "file_extension": ".py",
   "mimetype": "text/x-python",
   "name": "python",
   "nbconvert_exporter": "python",
   "pygments_lexer": "ipython3",
   "version": "3.9.7"
  }
 },
 "nbformat": 4,
 "nbformat_minor": 5
}
