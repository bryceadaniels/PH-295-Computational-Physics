{
 "cells": [
  {
   "cell_type": "markdown",
   "id": "8da2699a",
   "metadata": {},
   "source": [
    "# Exercise 2.10\n",
    "\n",
    "### Intro\n",
    "This code will calculate binding energy for input values. Then highest binding energy per nucleon. The highest binding per nucleon for a given atomic number will be calculated. Lastly, The highest binding energy per nucleon for elements 1-100 will be found.\n",
    "\n",
    "$$ B = a_1 A - a_2 A^{{2\\over3}}-a_3{Z^2 \\over A^{{1\\over3}}}-a_4{(A-2Z)^2\\over A}+{a_5 \\over A^{{1 \\over 2}}}$$"
   ]
  },
  {
   "cell_type": "code",
   "execution_count": 8,
   "id": "ca5fdf91",
   "metadata": {},
   "outputs": [
    {
     "name": "stdout",
     "output_type": "stream",
     "text": [
      "What is the mass number? 58\n",
      "What is the atomic number? 28\n",
      "Binding Energy: 497.562 MeV\n",
      "Binding Energy per Nucleon: 8.579 MeV\n"
     ]
    }
   ],
   "source": [
    "def binding_energy(Z,A):\n",
    "    a1 = 15.8\n",
    "    a2 = 18.3\n",
    "    a3 = 0.714\n",
    "    a4 = 23.2\n",
    "    if A%2 ==0:\n",
    "        if Z%2 == 0:\n",
    "            a5 = 12  #a5 value depends on odd and even of A and Z\n",
    "        else:\n",
    "            a5 = -12\n",
    "    else:\n",
    "        a5 = 0\n",
    "    return a1*A-a2*A**(2/3)-a3*Z**2 / A**(1/3)-a4*(A-2*Z)**2/A+a5/A**(1/2) #Equation found in book and above\n",
    "\n",
    "    \n",
    "#Part A & B\n",
    "A = int(input('What is the mass number? '))\n",
    "Z = int(input('What is the atomic number? '))\n",
    "print(f'Binding Energy: {binding_energy(Z,A):.3f} MeV\\nBinding Energy per Nucleon: {binding_energy(Z,A)/A:.3f} MeV')\n",
    "#added second part of print statement for part B\n"
   ]
  },
  {
   "cell_type": "code",
   "execution_count": 33,
   "id": "32a2cf17",
   "metadata": {},
   "outputs": [
    {
     "name": "stdout",
     "output_type": "stream",
     "text": [
      "What atomic number? 28\n",
      "The most stable nucleus is A= 62 and has a binding energy per nucleon of 8.702 MeV\n"
     ]
    }
   ],
   "source": [
    "def maxBindingPerNucleon(Z):\n",
    "    maxBpN = 0\n",
    "    maxA = 0\n",
    "    for A in range(Z,3*Z+1):\n",
    "        BpN = binding_energy(Z,A)/A  #calculates binding energy and divides by # of nucleons for binding energy per nucleon\n",
    "        if BpN> maxBpN:  # If value calculated above is higher than max, it is the new max\n",
    "            maxBpN=BpN\n",
    "            maxA = A\n",
    "    return maxA #Returns the mass number with the highest bnding energy per nucleon\n",
    "\n",
    "#Part C\n",
    "Z = int(input('What atomic number? '))\n",
    "print(f'The most stable nucleus is A= {maxBindingPerNucleon(Z)} and has a binding energy per nucleon of {binding_energy(Z,maxBindingPerNucleon(Z))/maxBindingPerNucleon(Z):.3f} MeV')\n"
   ]
  },
  {
   "cell_type": "code",
   "execution_count": 36,
   "id": "72fd701b",
   "metadata": {},
   "outputs": [
    {
     "name": "stdout",
     "output_type": "stream",
     "text": [
      "Z = 1, A= 3, BpN= 0.369 MeV\n",
      "Z = 2, A= 4, BpN= 5.322 MeV\n",
      "Z = 3, A= 7, BpN= 5.280 MeV\n",
      "Z = 4, A= 8, BpN= 6.466 MeV\n",
      "Z = 5, A= 11, BpN= 6.650 MeV\n",
      "Z = 6, A= 14, BpN= 7.201 MeV\n",
      "Z = 7, A= 15, BpN= 7.331 MeV\n",
      "Z = 8, A= 18, BpN= 7.719 MeV\n",
      "Z = 9, A= 19, BpN= 7.737 MeV\n",
      "Z = 10, A= 22, BpN= 8.035 MeV\n",
      "Z = 11, A= 25, BpN= 8.026 MeV\n",
      "Z = 12, A= 26, BpN= 8.241 MeV\n",
      "Z = 13, A= 29, BpN= 8.241 MeV\n",
      "Z = 14, A= 30, BpN= 8.379 MeV\n",
      "Z = 15, A= 33, BpN= 8.385 MeV\n",
      "Z = 16, A= 36, BpN= 8.489 MeV\n",
      "Z = 17, A= 37, BpN= 8.482 MeV\n",
      "Z = 18, A= 40, BpN= 8.573 MeV\n",
      "Z = 19, A= 43, BpN= 8.552 MeV\n",
      "Z = 20, A= 44, BpN= 8.627 MeV\n",
      "Z = 21, A= 47, BpN= 8.610 MeV\n",
      "Z = 22, A= 48, BpN= 8.659 MeV\n",
      "Z = 23, A= 51, BpN= 8.645 MeV\n",
      "Z = 24, A= 54, BpN= 8.687 MeV\n",
      "Z = 25, A= 55, BpN= 8.663 MeV\n",
      "Z = 26, A= 58, BpN= 8.701 MeV\n",
      "Z = 27, A= 61, BpN= 8.678 MeV\n",
      "Z = 28, A= 62, BpN= 8.702 MeV\n",
      "Z = 29, A= 65, BpN= 8.682 MeV\n",
      "Z = 30, A= 68, BpN= 8.702 MeV\n",
      "Z = 31, A= 69, BpN= 8.675 MeV\n",
      "Z = 32, A= 72, BpN= 8.693 MeV\n",
      "Z = 33, A= 75, BpN= 8.668 MeV\n",
      "Z = 34, A= 76, BpN= 8.677 MeV\n",
      "Z = 35, A= 79, BpN= 8.654 MeV\n",
      "Z = 36, A= 82, BpN= 8.661 MeV\n",
      "Z = 37, A= 85, BpN= 8.634 MeV\n",
      "Z = 38, A= 86, BpN= 8.639 MeV\n",
      "Z = 39, A= 89, BpN= 8.614 MeV\n",
      "Z = 40, A= 92, BpN= 8.615 MeV\n",
      "Z = 41, A= 93, BpN= 8.588 MeV\n",
      "Z = 42, A= 96, BpN= 8.588 MeV\n",
      "Z = 43, A= 99, BpN= 8.561 MeV\n",
      "Z = 44, A= 102, BpN= 8.557 MeV\n",
      "Z = 45, A= 103, BpN= 8.532 MeV\n",
      "Z = 46, A= 106, BpN= 8.528 MeV\n",
      "Z = 47, A= 109, BpN= 8.500 MeV\n",
      "Z = 48, A= 110, BpN= 8.494 MeV\n",
      "Z = 49, A= 113, BpN= 8.468 MeV\n",
      "Z = 50, A= 116, BpN= 8.461 MeV\n",
      "Z = 51, A= 119, BpN= 8.433 MeV\n",
      "Z = 52, A= 120, BpN= 8.425 MeV\n",
      "Z = 53, A= 123, BpN= 8.398 MeV\n",
      "Z = 54, A= 126, BpN= 8.389 MeV\n",
      "Z = 55, A= 129, BpN= 8.361 MeV\n",
      "Z = 56, A= 130, BpN= 8.351 MeV\n",
      "Z = 57, A= 133, BpN= 8.324 MeV\n",
      "Z = 58, A= 136, BpN= 8.313 MeV\n",
      "Z = 59, A= 139, BpN= 8.286 MeV\n",
      "Z = 60, A= 140, BpN= 8.274 MeV\n",
      "Z = 61, A= 143, BpN= 8.247 MeV\n",
      "Z = 62, A= 146, BpN= 8.235 MeV\n",
      "Z = 63, A= 149, BpN= 8.208 MeV\n",
      "Z = 64, A= 150, BpN= 8.194 MeV\n",
      "Z = 65, A= 153, BpN= 8.168 MeV\n",
      "Z = 66, A= 156, BpN= 8.154 MeV\n",
      "Z = 67, A= 159, BpN= 8.128 MeV\n",
      "Z = 68, A= 162, BpN= 8.113 MeV\n",
      "Z = 69, A= 163, BpN= 8.086 MeV\n",
      "Z = 70, A= 166, BpN= 8.072 MeV\n",
      "Z = 71, A= 169, BpN= 8.046 MeV\n",
      "Z = 72, A= 172, BpN= 8.030 MeV\n",
      "Z = 73, A= 175, BpN= 8.004 MeV\n",
      "Z = 74, A= 176, BpN= 7.988 MeV\n",
      "Z = 75, A= 179, BpN= 7.963 MeV\n",
      "Z = 76, A= 182, BpN= 7.947 MeV\n",
      "Z = 77, A= 185, BpN= 7.921 MeV\n",
      "Z = 78, A= 188, BpN= 7.905 MeV\n",
      "Z = 79, A= 191, BpN= 7.879 MeV\n",
      "Z = 80, A= 192, BpN= 7.862 MeV\n",
      "Z = 81, A= 195, BpN= 7.837 MeV\n",
      "Z = 82, A= 198, BpN= 7.820 MeV\n",
      "Z = 83, A= 201, BpN= 7.795 MeV\n",
      "Z = 84, A= 204, BpN= 7.778 MeV\n",
      "Z = 85, A= 205, BpN= 7.752 MeV\n",
      "Z = 86, A= 208, BpN= 7.735 MeV\n",
      "Z = 87, A= 211, BpN= 7.710 MeV\n",
      "Z = 88, A= 214, BpN= 7.693 MeV\n",
      "Z = 89, A= 217, BpN= 7.668 MeV\n",
      "Z = 90, A= 220, BpN= 7.651 MeV\n",
      "Z = 91, A= 223, BpN= 7.626 MeV\n",
      "Z = 92, A= 224, BpN= 7.608 MeV\n",
      "Z = 93, A= 227, BpN= 7.584 MeV\n",
      "Z = 94, A= 230, BpN= 7.566 MeV\n",
      "Z = 95, A= 233, BpN= 7.542 MeV\n",
      "Z = 96, A= 236, BpN= 7.524 MeV\n",
      "Z = 97, A= 239, BpN= 7.499 MeV\n",
      "Z = 98, A= 242, BpN= 7.481 MeV\n",
      "Z = 99, A= 243, BpN= 7.457 MeV\n",
      "Z = 100, A= 246, BpN= 7.439 MeV\n",
      "\n",
      "The maximum binding energy per nucleon occurs at Z = 28\n"
     ]
    }
   ],
   "source": [
    "#Part D\n",
    "maxZ = []\n",
    "for Z in range(1,101):\n",
    "    print(f'Z = {Z}, A= {maxBindingPerNucleon(Z)}, BpN= {binding_energy(Z,maxBindingPerNucleon(Z))/maxBindingPerNucleon(Z):.3f} MeV')\n",
    "    maxZ.append(binding_energy(Z,maxBindingPerNucleon(Z))/maxBindingPerNucleon(Z)) # appends the highest binding energy for each atomic number\n",
    "print()\n",
    "print(f'The maximum binding energy per nucleon occurs at Z = {maxZ.index(max(maxZ))+1}')"
   ]
  },
  {
   "cell_type": "markdown",
   "id": "313524e2",
   "metadata": {},
   "source": [
    "### Conclusion\n",
    "I forgot a few times to divide by the mass to get per nucleon. Then at the end, I forgot to add 1 when I found the index in the list. \n",
    "This isn't the prettiest way to do these calculations, but it works. I am sure if I did it again, I would do it in a completely different way."
   ]
  },
  {
   "cell_type": "markdown",
   "id": "a1a04ed0",
   "metadata": {},
   "source": [
    "# In Class Exercise 2.12\n",
    "\n",
    "### Intro\n",
    "This code will find all prime numbers from 0 to 10,000"
   ]
  },
  {
   "cell_type": "code",
   "execution_count": 32,
   "id": "5cd4bcfd",
   "metadata": {},
   "outputs": [
    {
     "name": "stdout",
     "output_type": "stream",
     "text": [
      "[2, 3, 5, 7, 11, 13, 17, 19, 23, 29, 31, 37, 41, 43, 47, 53, 59, 61, 67, 71, 73, 79, 83, 89, 97, 101, 103, 107, 109, 113, 127, 131, 137, 139, 149, 151, 157, 163, 167, 173, 179, 181, 191, 193, 197, 199, 211, 223, 227, 229, 233, 239, 241, 251, 257, 263, 269, 271, 277, 281, 283, 293, 307, 311, 313, 317, 331, 337, 347, 349, 353, 359, 367, 373, 379, 383, 389, 397, 401, 409, 419, 421, 431, 433, 439, 443, 449, 457, 461, 463, 467, 479, 487, 491, 499, 503, 509, 521, 523, 541, 547, 557, 563, 569, 571, 577, 587, 593, 599, 601, 607, 613, 617, 619, 631, 641, 643, 647, 653, 659, 661, 673, 677, 683, 691, 701, 709, 719, 727, 733, 739, 743, 751, 757, 761, 769, 773, 787, 797, 809, 811, 821, 823, 827, 829, 839, 853, 857, 859, 863, 877, 881, 883, 887, 907, 911, 919, 929, 937, 941, 947, 953, 967, 971, 977, 983, 991, 997, 1009, 1013, 1019, 1021, 1031, 1033, 1039, 1049, 1051, 1061, 1063, 1069, 1087, 1091, 1093, 1097, 1103, 1109, 1117, 1123, 1129, 1151, 1153, 1163, 1171, 1181, 1187, 1193, 1201, 1213, 1217, 1223, 1229, 1231, 1237, 1249, 1259, 1277, 1279, 1283, 1289, 1291, 1297, 1301, 1303, 1307, 1319, 1321, 1327, 1361, 1367, 1373, 1381, 1399, 1409, 1423, 1427, 1429, 1433, 1439, 1447, 1451, 1453, 1459, 1471, 1481, 1483, 1487, 1489, 1493, 1499, 1511, 1523, 1531, 1543, 1549, 1553, 1559, 1567, 1571, 1579, 1583, 1597, 1601, 1607, 1609, 1613, 1619, 1621, 1627, 1637, 1657, 1663, 1667, 1669, 1693, 1697, 1699, 1709, 1721, 1723, 1733, 1741, 1747, 1753, 1759, 1777, 1783, 1787, 1789, 1801, 1811, 1823, 1831, 1847, 1861, 1867, 1871, 1873, 1877, 1879, 1889, 1901, 1907, 1913, 1931, 1933, 1949, 1951, 1973, 1979, 1987, 1993, 1997, 1999, 2003, 2011, 2017, 2027, 2029, 2039, 2053, 2063, 2069, 2081, 2083, 2087, 2089, 2099, 2111, 2113, 2129, 2131, 2137, 2141, 2143, 2153, 2161, 2179, 2203, 2207, 2213, 2221, 2237, 2239, 2243, 2251, 2267, 2269, 2273, 2281, 2287, 2293, 2297, 2309, 2311, 2333, 2339, 2341, 2347, 2351, 2357, 2371, 2377, 2381, 2383, 2389, 2393, 2399, 2411, 2417, 2423, 2437, 2441, 2447, 2459, 2467, 2473, 2477, 2503, 2521, 2531, 2539, 2543, 2549, 2551, 2557, 2579, 2591, 2593, 2609, 2617, 2621, 2633, 2647, 2657, 2659, 2663, 2671, 2677, 2683, 2687, 2689, 2693, 2699, 2707, 2711, 2713, 2719, 2729, 2731, 2741, 2749, 2753, 2767, 2777, 2789, 2791, 2797, 2801, 2803, 2819, 2833, 2837, 2843, 2851, 2857, 2861, 2879, 2887, 2897, 2903, 2909, 2917, 2927, 2939, 2953, 2957, 2963, 2969, 2971, 2999, 3001, 3011, 3019, 3023, 3037, 3041, 3049, 3061, 3067, 3079, 3083, 3089, 3109, 3119, 3121, 3137, 3163, 3167, 3169, 3181, 3187, 3191, 3203, 3209, 3217, 3221, 3229, 3251, 3253, 3257, 3259, 3271, 3299, 3301, 3307, 3313, 3319, 3323, 3329, 3331, 3343, 3347, 3359, 3361, 3371, 3373, 3389, 3391, 3407, 3413, 3433, 3449, 3457, 3461, 3463, 3467, 3469, 3491, 3499, 3511, 3517, 3527, 3529, 3533, 3539, 3541, 3547, 3557, 3559, 3571, 3581, 3583, 3593, 3607, 3613, 3617, 3623, 3631, 3637, 3643, 3659, 3671, 3673, 3677, 3691, 3697, 3701, 3709, 3719, 3727, 3733, 3739, 3761, 3767, 3769, 3779, 3793, 3797, 3803, 3821, 3823, 3833, 3847, 3851, 3853, 3863, 3877, 3881, 3889, 3907, 3911, 3917, 3919, 3923, 3929, 3931, 3943, 3947, 3967, 3989, 4001, 4003, 4007, 4013, 4019, 4021, 4027, 4049, 4051, 4057, 4073, 4079, 4091, 4093, 4099, 4111, 4127, 4129, 4133, 4139, 4153, 4157, 4159, 4177, 4201, 4211, 4217, 4219, 4229, 4231, 4241, 4243, 4253, 4259, 4261, 4271, 4273, 4283, 4289, 4297, 4327, 4337, 4339, 4349, 4357, 4363, 4373, 4391, 4397, 4409, 4421, 4423, 4441, 4447, 4451, 4457, 4463, 4481, 4483, 4493, 4507, 4513, 4517, 4519, 4523, 4547, 4549, 4561, 4567, 4583, 4591, 4597, 4603, 4621, 4637, 4639, 4643, 4649, 4651, 4657, 4663, 4673, 4679, 4691, 4703, 4721, 4723, 4729, 4733, 4751, 4759, 4783, 4787, 4789, 4793, 4799, 4801, 4813, 4817, 4831, 4861, 4871, 4877, 4889, 4903, 4909, 4919, 4931, 4933, 4937, 4943, 4951, 4957, 4967, 4969, 4973, 4987, 4993, 4999, 5003, 5009, 5011, 5021, 5023, 5039, 5051, 5059, 5077, 5081, 5087, 5099, 5101, 5107, 5113, 5119, 5147, 5153, 5167, 5171, 5179, 5189, 5197, 5209, 5227, 5231, 5233, 5237, 5261, 5273, 5279, 5281, 5297, 5303, 5309, 5323, 5333, 5347, 5351, 5381, 5387, 5393, 5399, 5407, 5413, 5417, 5419, 5431, 5437, 5441, 5443, 5449, 5471, 5477, 5479, 5483, 5501, 5503, 5507, 5519, 5521, 5527, 5531, 5557, 5563, 5569, 5573, 5581, 5591, 5623, 5639, 5641, 5647, 5651, 5653, 5657, 5659, 5669, 5683, 5689, 5693, 5701, 5711, 5717, 5737, 5741, 5743, 5749, 5779, 5783, 5791, 5801, 5807, 5813, 5821, 5827, 5839, 5843, 5849, 5851, 5857, 5861, 5867, 5869, 5879, 5881, 5897, 5903, 5923, 5927, 5939, 5953, 5981, 5987, 6007, 6011, 6029, 6037, 6043, 6047, 6053, 6067, 6073, 6079, 6089, 6091, 6101, 6113, 6121, 6131, 6133, 6143, 6151, 6163, 6173, 6197, 6199, 6203, 6211, 6217, 6221, 6229, 6247, 6257, 6263, 6269, 6271, 6277, 6287, 6299, 6301, 6311, 6317, 6323, 6329, 6337, 6343, 6353, 6359, 6361, 6367, 6373, 6379, 6389, 6397, 6421, 6427, 6449, 6451, 6469, 6473, 6481, 6491, 6521, 6529, 6547, 6551, 6553, 6563, 6569, 6571, 6577, 6581, 6599, 6607, 6619, 6637, 6653, 6659, 6661, 6673, 6679, 6689, 6691, 6701, 6703, 6709, 6719, 6733, 6737, 6761, 6763, 6779, 6781, 6791, 6793, 6803, 6823, 6827, 6829, 6833, 6841, 6857, 6863, 6869, 6871, 6883, 6899, 6907, 6911, 6917, 6947, 6949, 6959, 6961, 6967, 6971, 6977, 6983, 6991, 6997, 7001, 7013, 7019, 7027, 7039, 7043, 7057, 7069, 7079, 7103, 7109, 7121, 7127, 7129, 7151, 7159, 7177, 7187, 7193, 7207, 7211, 7213, 7219, 7229, 7237, 7243, 7247, 7253, 7283, 7297, 7307, 7309, 7321, 7331, 7333, 7349, 7351, 7369, 7393, 7411, 7417, 7433, 7451, 7457, 7459, 7477, 7481, 7487, 7489, 7499, 7507, 7517, 7523, 7529, 7537, 7541, 7547, 7549, 7559, 7561, 7573, 7577, 7583, 7589, 7591, 7603, 7607, 7621, 7639, 7643, 7649, 7669, 7673, 7681, 7687, 7691, 7699, 7703, 7717, 7723, 7727, 7741, 7753, 7757, 7759, 7789, 7793, 7817, 7823, 7829, 7841, 7853, 7867, 7873, 7877, 7879, 7883, 7901, 7907, 7919, 7927, 7933, 7937, 7949, 7951, 7963, 7993, 8009, 8011, 8017, 8039, 8053, 8059, 8069, 8081, 8087, 8089, 8093, 8101, 8111, 8117, 8123, 8147, 8161, 8167, 8171, 8179, 8191, 8209, 8219, 8221, 8231, 8233, 8237, 8243, 8263, 8269, 8273, 8287, 8291, 8293, 8297, 8311, 8317, 8329, 8353, 8363, 8369, 8377, 8387, 8389, 8419, 8423, 8429, 8431, 8443, 8447, 8461, 8467, 8501, 8513, 8521, 8527, 8537, 8539, 8543, 8563, 8573, 8581, 8597, 8599, 8609, 8623, 8627, 8629, 8641, 8647, 8663, 8669, 8677, 8681, 8689, 8693, 8699, 8707, 8713, 8719, 8731, 8737, 8741, 8747, 8753, 8761, 8779, 8783, 8803, 8807, 8819, 8821, 8831, 8837, 8839, 8849, 8861, 8863, 8867, 8887, 8893, 8923, 8929, 8933, 8941, 8951, 8963, 8969, 8971, 8999, 9001, 9007, 9011, 9013, 9029, 9041, 9043, 9049, 9059, 9067, 9091, 9103, 9109, 9127, 9133, 9137, 9151, 9157, 9161, 9173, 9181, 9187, 9199, 9203, 9209, 9221, 9227, 9239, 9241, 9257, 9277, 9281, 9283, 9293, 9311, 9319, 9323, 9337, 9341, 9343, 9349, 9371, 9377, 9391, 9397, 9403, 9413, 9419, 9421, 9431, 9433, 9437, 9439, 9461, 9463, 9467, 9473, 9479, 9491, 9497, 9511, 9521, 9533, 9539, 9547, 9551, 9587, 9601, 9613, 9619, 9623, 9629, 9631, 9643, 9649, 9661, 9677, 9679, 9689, 9697, 9719, 9721, 9733, 9739, 9743, 9749, 9767, 9769, 9781, 9787, 9791, 9803, 9811, 9817, 9829, 9833, 9839, 9851, 9857, 9859, 9871, 9883, 9887, 9901, 9907, 9923, 9929, 9931, 9941, 9949, 9967, 9973]\n",
      "1229\n",
      "Wall time: 36.9 ms\n"
     ]
    }
   ],
   "source": [
    "%%time #Checking timing\n",
    "import numpy as np\n",
    "\n",
    "def isprime(n,primes):\n",
    "    for k in primes: #Goes through all already calculated prime values and divides by those numbers\n",
    "        if n%k == 0:  # If it is divisible by a prime number, it is not prime\n",
    "            return False\n",
    "        if k > np.sqrt(n): # if the k value goes over the square root of n, there are no factors\n",
    "            primes.append(n) #adds it to the primes list\n",
    "            return True\n",
    "primes = [2] #Instructions said to start with 2 in the list\n",
    "for n in range(3,10000):\n",
    "    isprime(n,primes) #Checks for prime numbers from 0 to 10,000\n",
    "print(primes)\n",
    "print(len(primes))\n",
    "    "
   ]
  },
  {
   "cell_type": "markdown",
   "id": "03e8f8ba",
   "metadata": {},
   "source": [
    "### Conclusion\n",
    "I kept the square root check as the isntructions have. It costs me 7 ms, but that isn't much."
   ]
  }
 ],
 "metadata": {
  "kernelspec": {
   "display_name": "Python 3 (ipykernel)",
   "language": "python",
   "name": "python3"
  },
  "language_info": {
   "codemirror_mode": {
    "name": "ipython",
    "version": 3
   },
   "file_extension": ".py",
   "mimetype": "text/x-python",
   "name": "python",
   "nbconvert_exporter": "python",
   "pygments_lexer": "ipython3",
   "version": "3.9.7"
  }
 },
 "nbformat": 4,
 "nbformat_minor": 5
}
