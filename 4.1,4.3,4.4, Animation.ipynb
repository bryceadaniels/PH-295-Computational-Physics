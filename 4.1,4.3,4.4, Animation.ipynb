{
 "cells": [
  {
   "cell_type": "markdown",
   "id": "17575f34",
   "metadata": {},
   "source": [
    "# Animation\n",
    "### Introduction\n",
    "I am animating the movement of a light showing the corresponding electric and magnetic fields. "
   ]
  },
  {
   "cell_type": "code",
   "execution_count": 1,
   "id": "d997f8a3",
   "metadata": {},
   "outputs": [
    {
     "data": {
      "text/html": [
       "<div id=\"glowscript\" class=\"glowscript\"></div>"
      ],
      "text/plain": [
       "<IPython.core.display.HTML object>"
      ]
     },
     "metadata": {},
     "output_type": "display_data"
    },
    {
     "data": {
      "application/javascript": [
       "if (typeof Jupyter !== \"undefined\") { window.__context = { glowscript_container: $(\"#glowscript\").removeAttr(\"id\")};}else{ element.textContent = ' ';}"
      ],
      "text/plain": [
       "<IPython.core.display.Javascript object>"
      ]
     },
     "metadata": {},
     "output_type": "display_data"
    },
    {
     "data": {
      "text/html": [
       "<div id=\"glowscript\" class=\"glowscript\"></div>"
      ],
      "text/plain": [
       "<IPython.core.display.HTML object>"
      ]
     },
     "metadata": {},
     "output_type": "display_data"
    },
    {
     "data": {
      "application/javascript": [
       "if (typeof Jupyter !== \"undefined\") { window.__context = { glowscript_container: $(\"#glowscript\").removeAttr(\"id\")};}else{ element.textContent = ' ';}"
      ],
      "text/plain": [
       "<IPython.core.display.Javascript object>"
      ]
     },
     "metadata": {},
     "output_type": "display_data"
    },
    {
     "data": {
      "application/javascript": [
       "if (typeof Jupyter !== \"undefined\") {require.undef(\"nbextensions/vpython_libraries/glow.min\");}else{element.textContent = ' ';}"
      ],
      "text/plain": [
       "<IPython.core.display.Javascript object>"
      ]
     },
     "metadata": {},
     "output_type": "display_data"
    },
    {
     "data": {
      "application/javascript": [
       "if (typeof Jupyter !== \"undefined\") {require.undef(\"nbextensions/vpython_libraries/glowcomm\");}else{element.textContent = ' ';}"
      ],
      "text/plain": [
       "<IPython.core.display.Javascript object>"
      ]
     },
     "metadata": {},
     "output_type": "display_data"
    },
    {
     "data": {
      "application/javascript": [
       "if (typeof Jupyter !== \"undefined\") {require.undef(\"nbextensions/vpython_libraries/jquery-ui.custom.min\");}else{element.textContent = ' ';}"
      ],
      "text/plain": [
       "<IPython.core.display.Javascript object>"
      ]
     },
     "metadata": {},
     "output_type": "display_data"
    },
    {
     "data": {
      "application/javascript": [
       "if (typeof Jupyter !== \"undefined\") {require([\"nbextensions/vpython_libraries/glow.min\"], function(){console.log(\"GLOW LOADED\");});}else{element.textContent = ' ';}"
      ],
      "text/plain": [
       "<IPython.core.display.Javascript object>"
      ]
     },
     "metadata": {},
     "output_type": "display_data"
    },
    {
     "data": {
      "application/javascript": [
       "if (typeof Jupyter !== \"undefined\") {require([\"nbextensions/vpython_libraries/glowcomm\"], function(){console.log(\"GLOWCOMM LOADED\");});}else{element.textContent = ' ';}"
      ],
      "text/plain": [
       "<IPython.core.display.Javascript object>"
      ]
     },
     "metadata": {},
     "output_type": "display_data"
    },
    {
     "data": {
      "application/javascript": [
       "if (typeof Jupyter !== \"undefined\") {require([\"nbextensions/vpython_libraries/jquery-ui.custom.min\"], function(){console.log(\"JQUERY LOADED\");});}else{element.textContent = ' ';}"
      ],
      "text/plain": [
       "<IPython.core.display.Javascript object>"
      ]
     },
     "metadata": {},
     "output_type": "display_data"
    }
   ],
   "source": [
    "from vpython import box,sphere, vector,color,rate,canvas\n",
    "import numpy as np\n",
    "scene = canvas()\n",
    "vix = 1\n",
    "light = sphere (color = color.white, radius = 0.4, make_trail=True, retain=200)\n",
    "elec = sphere (color = color.green, radius = 0.4, make_trail=True, retain=200)\n",
    "mag = sphere (color = color.orange, radius = 0.4, make_trail=True, retain=200)\n",
    "\n",
    "\n",
    "timelist = list(np.arange(0,100,0.1))\n",
    "\n",
    "def r_light(t):\n",
    "    x = vix*t\n",
    "    y = 0\n",
    "    return x,y\n",
    "def r_elec(t):\n",
    "    x = vix*t\n",
    "    y = 5*np.sin(t)\n",
    "    return x,y\n",
    "def r_mag(t):\n",
    "    x = vix*t\n",
    "    z = 5*np.sin(t)\n",
    "    return x,z\n",
    "scene.camera.follow(light)\n",
    "scene.range = 30\n",
    "for t in timelist:\n",
    "    rate(100)\n",
    "    x,y = r_light(t)\n",
    "    light.pos = vector(x,y,0)\n",
    "    x,y = r_elec(t)\n",
    "    elec.pos=vector(x,y,0)\n",
    "    x,z = r_mag(t)\n",
    "    mag.pos=vector(x,0,z)"
   ]
  },
  {
   "cell_type": "markdown",
   "id": "1f803a97",
   "metadata": {},
   "source": [
    "### Conclusion\n",
    "I enjoyed this a lot more than I expected. It is a good visualization of the fields."
   ]
  },
  {
   "cell_type": "markdown",
   "id": "b1bacb75",
   "metadata": {},
   "source": [
    "# 4.1 Factorial\n",
    "### Introduction\n",
    "Make a factorial function both with ints and floats"
   ]
  },
  {
   "cell_type": "code",
   "execution_count": 2,
   "id": "a441dac4",
   "metadata": {},
   "outputs": [
    {
     "name": "stdout",
     "output_type": "stream",
     "text": [
      "788657867364790503552363213932185062295135977687173263294742533244359449963403342920304284011984623904177212138919638830257642790242637105061926624952829931113462857270763317237396988943922445621451664240254033291864131227428294853277524242407573903240321257405579568660226031904170324062351700858796178922222789623703897374720000000000000000000000000000000000000000000000000 inf\n"
     ]
    }
   ],
   "source": [
    "def int_factorial(num):\n",
    "    if int(num) == 0:\n",
    "        return 1\n",
    "    return int(num) * int_factorial(int(num-1))\n",
    "int_factorial(4)\n",
    "def float_factorial(num):\n",
    "    if num == 0:\n",
    "        return 1.0\n",
    "    return float(num)*float_factorial(float(num-1))\n",
    "print(int_factorial(200),float_factorial(200.0))"
   ]
  },
  {
   "cell_type": "markdown",
   "id": "b26aa2e8",
   "metadata": {},
   "source": [
    "### Conclusion\n",
    "If I use floats, I cannot calculate as high value numbers. "
   ]
  },
  {
   "cell_type": "markdown",
   "id": "2326b1de",
   "metadata": {},
   "source": [
    "# 4.3 Calculating Derivatives\n",
    "### Introduction \n",
    "This will have me use the forward difference definiton of the derivative.\n",
    "Function: $f(x) = x(x-1)$"
   ]
  },
  {
   "cell_type": "code",
   "execution_count": 6,
   "id": "d87eca85",
   "metadata": {},
   "outputs": [
    {
     "name": "stdout",
     "output_type": "stream",
     "text": [
      "Analytically, the derivative at x = 1 is 1\n",
      "When δ = 1.0e-02, the derivative is 1.01000\n",
      "When δ = 1.0e-04, the derivative is 1.00010\n",
      "When δ = 1.0e-06, the derivative is 1.00000\n",
      "When δ = 1.0e-08, the derivative is 1.00000\n",
      "When δ = 1.0e-10, the derivative is 1.00000\n",
      "When δ = 1.0e-12, the derivative is 1.00009\n",
      "When δ = 1.0e-14, the derivative is 0.99920\n"
     ]
    }
   ],
   "source": [
    "func = lambda x: x*(x-1)\n",
    "x = 1\n",
    "print('Analytically, the derivative at x = 1 is 1')\n",
    "δ = 1e-2\n",
    "der = (func(x+δ)-func(x))/δ\n",
    "print(f'When δ = {δ:.1e}, the derivative is {der :.5f}')\n",
    "δ = 1e-4\n",
    "der = (func(x+δ)-func(x))/δ\n",
    "print(f'When δ = {δ:.1e}, the derivative is {der :.5f}')\n",
    "δ = 1e-6\n",
    "der = (func(x+δ)-func(x))/δ\n",
    "print(f'When δ = {δ:.1e}, the derivative is {der :.5f}')\n",
    "δ = 1e-8\n",
    "der = (func(x+δ)-func(x))/δ\n",
    "print(f'When δ = {δ:.1e}, the derivative is {der :.5f}')\n",
    "δ = 1e-10\n",
    "der = (func(x+δ)-func(x))/δ\n",
    "print(f'When δ = {δ:.1e}, the derivative is {der :.5f}')\n",
    "δ = 1e-12\n",
    "der = (func(x+δ)-func(x))/δ\n",
    "print(f'When δ = {δ:.1e}, the derivative is {der :.5f}')\n",
    "δ = 1e-14\n",
    "der = (func(x+δ)-func(x))/δ\n",
    "print(f'When δ = {δ:.1e}, the derivative is {der :.5f}')"
   ]
  },
  {
   "cell_type": "markdown",
   "id": "8afd91ae",
   "metadata": {},
   "source": [
    "### Conclusion\n",
    "The derivative gets closer to the correct value and then gets farther away. \n",
    "# 4.4 Calculating Integrals\n",
    "### Introduction\n",
    "Take the integral of:$$ \\int_{-1}^{1} \\sqrt{1-x^2}dx $$"
   ]
  },
  {
   "cell_type": "code",
   "execution_count": 10,
   "id": "2deb4ffa",
   "metadata": {},
   "outputs": [
    {
     "name": "stdout",
     "output_type": "stream",
     "text": [
      "When cut into 10000000 slices, the integral evaluates to be 1.5707963267\n",
      "1.5707963267948966\n",
      "Wall time: 857 ms\n"
     ]
    }
   ],
   "source": [
    "%%time\n",
    "import numpy as np\n",
    "f = lambda x: np.sqrt(1-x*x)\n",
    "N = 10000000\n",
    "lower = -1\n",
    "upper = 1\n",
    "x,dx = np.linspace(lower,upper,N,retstep = True)\n",
    "F = f(x)\n",
    "value = dx*sum(F)\n",
    "print(f'When cut into {N} slices, the integral evaluates to be {value:.10f}')\n",
    "print(np.pi/2)"
   ]
  },
  {
   "cell_type": "markdown",
   "id": "8d5b66d3",
   "metadata": {},
   "source": [
    "### Conclusion\n",
    "With 10000000 slices, the integral is acurate to 10 decimal places. "
   ]
  },
  {
   "cell_type": "markdown",
   "id": "fb1236b7",
   "metadata": {},
   "source": [
    "# In Class Notes"
   ]
  },
  {
   "cell_type": "code",
   "execution_count": 16,
   "id": "58b245f2",
   "metadata": {},
   "outputs": [
    {
     "data": {
      "text/html": [
       "<div id=\"glowscript\" class=\"glowscript\"></div>"
      ],
      "text/plain": [
       "<IPython.core.display.HTML object>"
      ]
     },
     "metadata": {},
     "output_type": "display_data"
    },
    {
     "data": {
      "application/javascript": [
       "if (typeof Jupyter !== \"undefined\") { window.__context = { glowscript_container: $(\"#glowscript\").removeAttr(\"id\")};}else{ element.textContent = ' ';}"
      ],
      "text/plain": [
       "<IPython.core.display.Javascript object>"
      ]
     },
     "metadata": {},
     "output_type": "display_data"
    }
   ],
   "source": [
    "from vpython import *\n",
    "from numpy import arange\n",
    "scene = canvas()\n",
    "maxrate = 10\n",
    "\n",
    "xi = 0\n",
    "yi = 0\n",
    "vix = 3\n",
    "viy = 20\n",
    "ax = 0\n",
    "ay = -9.8\n",
    "\n",
    "timelist = list(arange(0,5,0.1))\n",
    "ball = sphere(pos=vector(xi,0,yi))\n",
    "\n",
    "def r(t):\n",
    "    x = xi+vix*t+0.5*ax*t*t\n",
    "    y = yi+viy*t+0.5*ay*t*t\n",
    "    return x,y\n",
    "scene.camera.pos = vector(0,0,0)\n",
    "scene.range = 30\n",
    "for t in timelist:\n",
    "    rate(maxrate)\n",
    "    x,y = r(t)\n",
    "    ball.pos = vector(x,0,y)"
   ]
  },
  {
   "cell_type": "code",
   "execution_count": null,
   "id": "cde510a4",
   "metadata": {},
   "outputs": [],
   "source": []
  }
 ],
 "metadata": {
  "kernelspec": {
   "display_name": "Python 3 (ipykernel)",
   "language": "python",
   "name": "python3"
  },
  "language_info": {
   "codemirror_mode": {
    "name": "ipython",
    "version": 3
   },
   "file_extension": ".py",
   "mimetype": "text/x-python",
   "name": "python",
   "nbconvert_exporter": "python",
   "pygments_lexer": "ipython3",
   "version": "3.9.7"
  }
 },
 "nbformat": 4,
 "nbformat_minor": 5
}
