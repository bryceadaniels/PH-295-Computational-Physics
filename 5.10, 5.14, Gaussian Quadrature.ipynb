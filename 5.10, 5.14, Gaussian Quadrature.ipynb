{
 "cells": [
  {
   "cell_type": "markdown",
   "id": "033e0cc7",
   "metadata": {},
   "source": [
    "# In Class\n",
    "### Introduction\n",
    "$$ I = \\int_{1}^{3} 0.95x^5 - 3.6x^4 + 3x^3-4.27x^2+12x-3 dx $$\n",
    "\n",
    "Using Gaussian Quadrature"
   ]
  },
  {
   "cell_type": "code",
   "execution_count": 4,
   "id": "010b8eb6",
   "metadata": {},
   "outputs": [
    {
     "name": "stdout",
     "output_type": "stream",
     "text": [
      "6.020000000000016\n"
     ]
    }
   ],
   "source": [
    "from gaussxw import gaussxw\n",
    "\n",
    "f = lambda x: 0.95*x**5-3.6*x**4+3*x**3-4.27*x**2+12*x-3\n",
    "\n",
    "N = 3\n",
    "\n",
    "a = 1\n",
    "b = 3\n",
    "\n",
    "x,w = gaussxw(N)\n",
    "xp = 0.5*(b-a)*x+0.5*(b+a)\n",
    "wp = 0.5*(b-a)*w\n",
    "\n",
    "s = 0\n",
    "for k in range(N):\n",
    "    s += wp[k]*f(xp[k])\n",
    "\n",
    "print(s)"
   ]
  },
  {
   "cell_type": "markdown",
   "id": "13a715c7",
   "metadata": {},
   "source": [
    "### Conclusion\n",
    "This is really easy since I was given the code in the book and in class.\n",
    "\n",
    "# Exercise 5.10(b,c)\n",
    "### Introduction\n",
    "Finding the period of an anharmonic oscillator. The total energy is $E = {1 \\over 2} m ({dx \\over dt})^2 + V(x)$. The period $T$ is $$T = \\sqrt{8m} \\int_{0}^{a} {dx \\over \\sqrt{V(a) - V(x)}}$$\n",
    "\n",
    "Using Gaussian quadrature with N=20. Make a graph of the period from a=0 to a = 2\n",
    "\n",
    "$V(x) = x^4$ and $m=1$"
   ]
  },
  {
   "cell_type": "code",
   "execution_count": 8,
   "id": "b344d699",
   "metadata": {},
   "outputs": [
    {
     "data": {
      "image/png": "[encoded data removed]",
      "text/plain": [
       "<Figure size 432x288 with 1 Axes>"
      ]
     },
     "metadata": {
      "needs_background": "light"
     },
     "output_type": "display_data"
    }
   ],
   "source": [
    "from gaussxw import gaussxw\n",
    "import numpy as np\n",
    "import matplotlib.pyplot as plt\n",
    "V = lambda x: x**4\n",
    "m = 1\n",
    "\n",
    "N = 20\n",
    "\n",
    "aArray = np.linspace(0,2,200)\n",
    "for a in aArray:\n",
    "    x,w = gaussxw(N)\n",
    "    xp = 0.5*(a)*x+0.5*(a)\n",
    "    wp = 0.5*(a)*w\n",
    "\n",
    "    s = 0\n",
    "    for k in range(N):\n",
    "        s += wp[k]*f(xp[k])\n",
    "    T = np.sqrt(8*m)*s\n",
    "    plt.plot(a,T,'r.')\n",
    "plt.xlabel('a')\n",
    "plt.ylabel(\"Period (T)\")\n",
    "plt.show()"
   ]
  },
  {
   "cell_type": "markdown",
   "id": "a017e8e0",
   "metadata": {},
   "source": [
    "### Conclusion \n",
    "To answer part c, I think it diverges as it goes to zero because there is not much potential energy and when the potential goes to zero, T grows. \n",
    "# Exercise 5.14\n",
    "### Introduction\n",
    "\n",
    "$$ F_z = G\\sigma z \\int \\int_{-L/2}^{L/2} {dx dy \\over (x^2 + y^2 +z^2)^{3/2}} $$\n",
    "\n",
    "Plot as a function of z from z = 0 to z = 10. use Gaussian quadrature for double integral."
   ]
  },
  {
   "cell_type": "code",
   "execution_count": 11,
   "id": "c27cf3b4",
   "metadata": {},
   "outputs": [
    {
     "data": {
      "image/png": "[encoded data removed]",
      "text/plain": [
       "<Figure size 432x288 with 1 Axes>"
      ]
     },
     "metadata": {
      "needs_background": "light"
     },
     "output_type": "display_data"
    }
   ],
   "source": [
    "N = 100 # Number of points per axiz\n",
    "L =10  #Length of one side of square\n",
    "G = 6.674e-11 # Grav constant\n",
    "m = 10e3  # 10 metric tons\n",
    "A = L*L  # Area\n",
    "σ = m/A  # Mass per area\n",
    "\n",
    "f = lambda x,y,z : 1/(x**2 + y**2 +z**2)**(3/2)\n",
    "\n",
    "zArray = np.linspace(0,10,500)\n",
    "for z in zArray:\n",
    "    N = 100\n",
    "\n",
    "    a = L/2\n",
    "    b = -L/2\n",
    "    # x integral\n",
    "    x,xw = gaussxw(N)\n",
    "    xp = 0.5*(b-a)*x+0.5*(b+a)\n",
    "    wpx = 0.5*(b-a)*xw\n",
    "    # y integral\n",
    "    y,yw = gaussxw(N)\n",
    "    yp = 0.5*(b-a)*y+0.5*(b+a)\n",
    "    wpy = 0.5*(b-a)*yw\n",
    "    \n",
    "    s = 0\n",
    "    for i in range(N):\n",
    "        for j in range(N):\n",
    "            s += wpx[i]*wpy[j]*f(xp[i],yp[j],z)\n",
    "    Fz = G*σ*z*s\n",
    "    plt.plot(z,Fz,'r.')"
   ]
  },
  {
   "cell_type": "markdown",
   "id": "443be4f4",
   "metadata": {},
   "source": [
    "### Conclusion\n",
    "I did not understand the nested for loop for the double integral at first, but it makes sense now. As discussed in class, the reason it is weird close to zero is that the grid is not fine enough close to zero."
   ]
  }
 ],
 "metadata": {
  "kernelspec": {
   "display_name": "Python 3 (ipykernel)",
   "language": "python",
   "name": "python3"
  },
  "language_info": {
   "codemirror_mode": {
    "name": "ipython",
    "version": 3
   },
   "file_extension": ".py",
   "mimetype": "text/x-python",
   "name": "python",
   "nbconvert_exporter": "python",
   "pygments_lexer": "ipython3",
   "version": "3.9.7"
  }
 },
 "nbformat": 4,
 "nbformat_minor": 5
}
