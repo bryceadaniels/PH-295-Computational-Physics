{
 "cells": [
  {
   "cell_type": "markdown",
   "id": "83c50a22",
   "metadata": {},
   "source": [
    "Diffusion using FTCS\n",
    "\n",
    "Example 9.3\n",
    "\n",
    "How heat is transfered:\n",
    "\n",
    "$ {\\partial \\phi \\over \\partial t} = D{\\partial ^2 \\phi \\over \\partial x^2}$"
   ]
  },
  {
   "cell_type": "code",
   "execution_count": 7,
   "id": "861f6f35",
   "metadata": {},
   "outputs": [
    {
     "data": {
      "image/png": "[encoded data removed]",
      "text/plain": [
       "<Figure size 432x288 with 1 Axes>"
      ]
     },
     "metadata": {
      "needs_background": "light"
     },
     "output_type": "display_data"
    }
   ],
   "source": [
    "from numpy import empty\n",
    "from matplotlib import pyplot as plt\n",
    "\n",
    "# Constants\n",
    "L = 0.01  # Thickness of steel\n",
    "D = 4.25e-6  # Thermal diffusivity\n",
    "N = 100  # Num of cells\n",
    "h = L/N  # Grid Spacing\n",
    "τ = 1e-4  # Time step\n",
    "epsilon = h/1000  # Threshold\n",
    "\n",
    "Tlow = 0.0 # Low temp of cold water\n",
    "Tmid = 20.0 # Mid temp of steel\n",
    "Thi = 50.0 # High temp of hot water\n",
    "\n",
    "#Times to plot at\n",
    "t1 = 0.01 \n",
    "t2 = 0.1\n",
    "t3 = 0.4\n",
    "t4 = 1.0\n",
    "t5 = 10.0\n",
    "t_end = t5+epsilon # Time to finish\n",
    "\n",
    "#Make arrays\n",
    "T = empty(N+2,float) #N cells with 2 ghost points\n",
    "T[1:-1] = Tmid\n",
    "T[0] = 2*Thi-T[1]  #Ghost point to keep boundary conditions for Inside wall\n",
    "T[-1] = 2*Tlow -T[-2] # Outside wall\n",
    "\n",
    "Tp = T.copy()\n",
    "\n",
    "t = 0.0\n",
    "C = τ*D/h/h\n",
    "\n",
    "while t<t_end:\n",
    "   \n",
    "    for i in range(1,N+1):\n",
    "        Tp[i] = T[i] + C*(T[i+1]-2*T[i]+T[i-1])  # From equation, second part is second derivative\n",
    "    \n",
    "    T[0] = 2*Thi-T[1]  #Ghost point to keep boundary conditions for Inside wall\n",
    "    T[-1] = 2*Tlow -T[-2] # Outside wall\n",
    "    \n",
    "    T, Tp = Tp,T\n",
    "    t += τ #Go forward in time \n",
    "    \n",
    "    if abs(t-t1) < epsilon:\n",
    "        plt.plot(T[1:-1],label = t1)\n",
    "    if abs(t-t2) < epsilon:\n",
    "        plt.plot(T[1:-1], label = t2)\n",
    "    if abs(t-t3) < epsilon:\n",
    "        plt.plot(T[1:-1], label = t3)\n",
    "    if abs(t-t4) < epsilon:\n",
    "        plt.plot(T[1:-1], label = t4)\n",
    "    if abs(t-t5) < epsilon:\n",
    "        plt.plot(T[1:-1],label = t5)\n",
    "        \n",
    "plt.xlabel(\"x\")\n",
    "plt.ylabel(\"T\")\n",
    "plt.legend()\n",
    "plt.show()"
   ]
  },
  {
   "cell_type": "markdown",
   "id": "94917fb2",
   "metadata": {},
   "source": [
    "## Wave Equation with Standard Leapfrog"
   ]
  },
  {
   "cell_type": "code",
   "execution_count": 21,
   "id": "d8a5bce7",
   "metadata": {},
   "outputs": [
    {
     "name": "stdout",
     "output_type": "stream",
     "text": [
      "Using matplotlib backend: Qt5Agg\n"
     ]
    }
   ],
   "source": [
    "import numpy as np\n",
    "import matplotlib.pyplot as plt\n",
    "%matplotlib\n",
    "N = 200  #Number of cells\n",
    "L = 1\n",
    "h = L/N\n",
    "c = 2\n",
    "τ = 0.2*h/c\n",
    "C = c*c*τ*τ/h/h\n",
    "\n",
    "x = np.linspace(-h,L+h,N+2)\n",
    "y = np.empty(N+2,float)\n",
    "yold = y.copy()\n",
    "\n",
    "t = 0.0\n",
    "tmax = 2\n",
    "v = np.zeros_like(x)  #Initial condition of v\n",
    "y = 0.01*np.exp(-(x-L/2)**2 / 0.02)  #Intial condition of y\n",
    "y[0] = -y[1]  #Boundary condition will be zero\n",
    "y[-1]= -y[-2]  # Boundary condition will be zero\n",
    "\n",
    "yold[1:-1] = y[1:-1]-v[1:-1]*τ+C/2*(y[2:]-2*y[1:-1]+y[:-2])\n",
    "yold[0] = -yold[1]\n",
    "yold[-1] = -yold[-2]\n",
    "\n",
    "ynew = np.zeros_like(yold)\n",
    "\n",
    "j = 0\n",
    "while t< tmax:\n",
    "    ynew[1:-1] = 2*y[1:-1]-yold[1:-1] +C*(y[2:]-2*y[1:-1]+y[:-2])\n",
    "    ynew[0] = -ynew[1]\n",
    "    ynew[-1] = -ynew[-2]\n",
    "    \n",
    "    yold = np.copy(y)\n",
    "    y = np.copy(ynew)\n",
    "    \n",
    "    if j% 50 == 0:\n",
    "        plt.clf()\n",
    "        plt.plot(x,y,'b-')\n",
    "        plt.xlabel('x')\n",
    "        plt.ylabel('y')\n",
    "        plt.title(f'time = {t:1.3f}')\n",
    "        plt.ylim([-0.03,0.03])\n",
    "        plt.xlim([0,L])\n",
    "        plt.draw()\n",
    "        plt.pause(0.1)\n",
    "    j+=1\n",
    "    t+= τ\n"
   ]
  },
  {
   "cell_type": "code",
   "execution_count": null,
   "id": "f5ccb481",
   "metadata": {},
   "outputs": [],
   "source": []
  }
 ],
 "metadata": {
  "kernelspec": {
   "display_name": "Python 3 (ipykernel)",
   "language": "python",
   "name": "python3"
  },
  "language_info": {
   "codemirror_mode": {
    "name": "ipython",
    "version": 3
   },
   "file_extension": ".py",
   "mimetype": "text/x-python",
   "name": "python",
   "nbconvert_exporter": "python",
   "pygments_lexer": "ipython3",
   "version": "3.9.7"
  }
 },
 "nbformat": 4,
 "nbformat_minor": 5
}
